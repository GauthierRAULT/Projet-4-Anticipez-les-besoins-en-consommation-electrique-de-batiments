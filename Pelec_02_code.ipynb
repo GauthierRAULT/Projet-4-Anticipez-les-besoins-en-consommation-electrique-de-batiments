{
 "cells": [
  {
   "cell_type": "code",
   "execution_count": 1,
   "id": "0c72a3f9-791b-4ae4-8e11-122cd2544f00",
   "metadata": {},
   "outputs": [],
   "source": [
    "import numpy as np\n",
    "import pandas as pd\n",
    "import matplotlib.pyplot as plt\n",
    "import seaborn as sns\n",
    "\n",
    "from sklearn import metrics\n",
    "from sklearn.pipeline import Pipeline, make_pipeline\n",
    "from sklearn.compose import make_column_selector, make_column_transformer, ColumnTransformer\n",
    "from sklearn.preprocessing import StandardScaler, OneHotEncoder\n",
    "from sklearn import model_selection \n",
    "from sklearn.model_selection import train_test_split , learning_curve, validation_curve, GridSearchCV\n",
    "from sklearn.model_selection import cross_val_score,KFold,StratifiedKFold\n",
    "import shap\n",
    "from sklearn.feature_selection import RFECV\n",
    "from sklearn.impute import SimpleImputer\n",
    "from time import *\n",
    "import timeit\n",
    "import warnings # supress warnings\n",
    "warnings.filterwarnings('ignore')\n",
    "\n",
    "from sklearn.dummy import DummyRegressor\n",
    "from sklearn import linear_model\n",
    "from sklearn.linear_model import SGDRegressor #Stochastic Gradient Descent\n",
    "from sklearn.linear_model import Ridge,ElasticNet, Lasso, LassoCV,LinearRegression\n",
    "from sklearn.kernel_ridge import KernelRidge\n",
    "from sklearn import svm\n",
    "from sklearn.svm import SVR\n",
    "\n",
    "\n",
    "\n"
   ]
  },
  {
   "cell_type": "markdown",
   "id": "6dcbfe6d",
   "metadata": {},
   "source": [
    "Modèles basiques sans aucune optimisation \n",
    "Ajout d’une sélection des variables avec la méthode SelectKBest\n",
    "Première optimisation de quelques paramètres\n"
   ]
  },
  {
   "cell_type": "code",
   "execution_count": 2,
   "id": "db1eca3c-3b38-41bc-96cd-ee29cc6865f8",
   "metadata": {},
   "outputs": [],
   "source": [
    "data = pd.read_csv('/Users/gauthierrault/Desktop/Projet_4/data_clean.csv')"
   ]
  },
  {
   "cell_type": "code",
   "execution_count": 3,
   "id": "eaed7faf-0118-4041-8c82-8bc4685ea7d2",
   "metadata": {},
   "outputs": [],
   "source": [
    "data.drop(['Unnamed: 0'], axis=1, inplace=True)"
   ]
  },
  {
   "cell_type": "markdown",
   "id": "62ef71da",
   "metadata": {},
   "source": [
    "# Mise en place des fonctions"
   ]
  },
  {
   "cell_type": "code",
   "execution_count": 4,
   "id": "8a388760",
   "metadata": {},
   "outputs": [],
   "source": [
    "scores_algo_ener = pd.DataFrame()\n",
    "times_algo_ener = pd.DataFrame()"
   ]
  },
  {
   "cell_type": "code",
   "execution_count": 5,
   "id": "37d9bc36",
   "metadata": {},
   "outputs": [],
   "source": [
    "def estimateur_ener(algo):\n",
    "    \n",
    "    model = algo #model = SGDRegressor( nb_itérations, learning_rate)\n",
    "\n",
    "\n",
    "    start_time = timeit.default_timer()\n",
    "    model.fit(X_train, y_train) #model.fit(x, y) : pour entrainer votre modèle.\n",
    "    fit_time = timeit.default_timer() - start_time\n",
    "  \n",
    "    model.score(X_test, y_test) # model.score(x, y) : pour évaluer votre modèle.\n",
    "\n",
    "    start_time = timeit.default_timer()\n",
    "    model.predict(X_test) #model.predict(x) : pour générer des prédictions\n",
    "    predict_time = timeit.default_timer() - start_time\n",
    "    \n",
    "    times = fit_time + predict_time\n",
    "    \n",
    "    times_algo_ener[algo] = [times]\n",
    "    \n",
    "    times_algo_ener.index = [\"times\"]\n",
    "    \n",
    "    print('#'*75)  \n",
    "    \n",
    "    print(f'{\"\":<20}{algo}')\n",
    "    #print('train score: ', model.score(X_train, y_train))\n",
    "    #print('test score: ', model.score(X_test, y_test))\n",
    "    #cv_train_score = cross_val_score(model, X_train, y_train, scoring='r2', cv=5)\n",
    "    #print('train cv_score: ', cv_train_score.mean())\n",
    "    #cv_test_score = cross_val_score(model, X_test, y_test, scoring='r2', cv=5)\n",
    "    #print('test cv_score: ', cv_test_score.mean())\n",
    "    print('model score: ',model.score(X_test, y_test))\n",
    "    ##print(metrics.r2_score(y_test, model.predict(X_test)))\n",
    "    #print('#'*75)\n",
    "    #print(\"Fit time : {:.2f}s\".format(fit_time))\n",
    "    #print(\"Predict time : {:.2f}s\".format(predict_time))  \n",
    "    #print('#'*75)\n",
    "    print(\"Time processing : {:.2f}s\".format(times))\n",
    "    #print('#'*75)\n",
    "    "
   ]
  },
  {
   "cell_type": "code",
   "execution_count": 6,
   "id": "c18483cd",
   "metadata": {},
   "outputs": [],
   "source": [
    "def resultat_ener(algo): \n",
    "    model = algo\n",
    "    R2 = round(r2_score(y_test, model.predict(X_test)),2)\n",
    "    MAE = round(mean_absolute_error(y_test, model.predict(X_test)),2)\n",
    "    MSE = round(mean_squared_error(y_test, model.predict(X_test)),2)\n",
    "    RMSE = round(mean_squared_error(y_test, model.predict(X_test), squared=False),2)\n",
    "    \n",
    "    #print('#'*75)\n",
    "    \n",
    "    print(f'{\"R²\":<40}{R2}')\n",
    "    print(f'{\"Mean Absolute Error\":<40}{MAE}')\n",
    "    print(f'{\"Mean Square Error\":<40}{MSE}')\n",
    "    print(f'{\"Root Mean Square Error\":<40}{RMSE}')\n",
    "    \n",
    "    scores_algo_ener[algo] = [R2,RMSE, MSE, MAE ]\n",
    "    scores_algo_ener.index = [ \"R2\", \"RMSE\", \"MSE\", \"MAE\"]\n",
    "\n",
    "    print('#'*75)"
   ]
  },
  {
   "cell_type": "code",
   "execution_count": 7,
   "id": "8230c54c",
   "metadata": {},
   "outputs": [],
   "source": [
    "def learning_curve(algo):\n",
    "    N, train_score, val_score = learning_curve(algo, X, y, train_sizes=np.linspace(0.2,1,5) , cv=5)\n",
    "    #print(N)\n",
    "    plt.plot(N, train_score.mean(axis=1), label='train')\n",
    "    plt.plot(N, val_score.mean(axis=1), label='validation')\n",
    "    plt.xlabel('train_sizes')\n",
    "    plt.ylabel('scores')\n",
    "    plt.legend()\n",
    "    plt.title(algo)\n",
    "    plt.show()\n",
    "    return"
   ]
  },
  {
   "cell_type": "code",
   "execution_count": 8,
   "id": "544cded5",
   "metadata": {},
   "outputs": [],
   "source": [
    "def initialisation_ener (algo):\n",
    "    estimateur_ener(algo)\n",
    "    resultat_ener(algo)\n",
    "    #learning_curve(algo)\n",
    "    return"
   ]
  },
  {
   "cell_type": "code",
   "execution_count": null,
   "id": "20479042",
   "metadata": {},
   "outputs": [],
   "source": []
  },
  {
   "cell_type": "code",
   "execution_count": null,
   "id": "7cb71fdb",
   "metadata": {},
   "outputs": [],
   "source": []
  },
  {
   "cell_type": "code",
   "execution_count": 9,
   "id": "2a0cad7c",
   "metadata": {},
   "outputs": [],
   "source": [
    "scores_algo_ener_ess = pd.DataFrame()\n",
    "times_algo_ener_ess = pd.DataFrame()"
   ]
  },
  {
   "cell_type": "code",
   "execution_count": 10,
   "id": "e51fcd32",
   "metadata": {},
   "outputs": [],
   "source": [
    "def estimateur_ener_ess(algo):\n",
    "    \n",
    "    model = algo #model = SGDRegressor( nb_itérations, learning_rate)\n",
    "\n",
    "\n",
    "    start_time = timeit.default_timer()\n",
    "    model.fit(X_train, y_train) #model.fit(x, y) : pour entrainer votre modèle.\n",
    "    fit_time = timeit.default_timer() - start_time\n",
    "  \n",
    "    model.score(X_test, y_test) # model.score(x, y) : pour évaluer votre modèle.\n",
    "\n",
    "    start_time = timeit.default_timer()\n",
    "    model.predict(X_test) #model.predict(x) : pour générer des prédictions\n",
    "    predict_time = timeit.default_timer() - start_time\n",
    "    \n",
    "    times = fit_time + predict_time\n",
    "    \n",
    "    times_algo_ener_ess[algo] = [times]\n",
    "    \n",
    "    times_algo_ener_ess.index = [\"times\"]\n",
    "    \n",
    "    print('#'*75)  \n",
    "    \n",
    "    print(f'{\"\":<20}{algo}')\n",
    "    #print('train score: ', model.score(X_train, y_train))\n",
    "    #print('test score: ', model.score(X_test, y_test))\n",
    "    #cv_train_score = cross_val_score(model, X_train, y_train, scoring='r2', cv=5)\n",
    "    #print('train cv_score: ', cv_train_score.mean())\n",
    "    #cv_test_score = cross_val_score(model, X_test, y_test, scoring='r2', cv=5)\n",
    "    #print('test cv_score: ', cv_test_score.mean())\n",
    "    print('model score: ',model.score(X_test, y_test))\n",
    "    #print(metrics.r2_score(y_test, model.predict(X_test)))\n",
    "    #print('#'*75)\n",
    "    #print(\"Fit time : {:.2f}s\".format(fit_time))\n",
    "    #print(\"Predict time : {:.2f}s\".format(predict_time))  \n",
    "    #print('#'*75)\n",
    "    print(\"Time processing : {:.2f}s\".format(times))\n",
    "    #print('#'*75)\n",
    "    "
   ]
  },
  {
   "cell_type": "code",
   "execution_count": 11,
   "id": "102a9571",
   "metadata": {},
   "outputs": [],
   "source": [
    "def resultat_ener_ess(algo): \n",
    "    model = algo\n",
    "    R2 = round(r2_score(y_test, model.predict(X_test)),2)\n",
    "    MAE = round(mean_absolute_error(y_test, model.predict(X_test)),2)\n",
    "    MSE = round(mean_squared_error(y_test, model.predict(X_test)),2)\n",
    "    RMSE = round(mean_squared_error(y_test, model.predict(X_test), squared=False),2)\n",
    "    \n",
    "    #print('#'*75)\n",
    "    \n",
    "    print(f'{\"R²\":<40}{R2}')\n",
    "    print(f'{\"Mean Absolute Error\":<40}{MAE}')\n",
    "    print(f'{\"Mean Square Error\":<40}{MSE}')\n",
    "    print(f'{\"Root Mean Square Error\":<40}{RMSE}')\n",
    "    \n",
    "    scores_algo_ener_ess[algo] = [R2,RMSE, MSE, MAE ]\n",
    "    scores_algo_ener_ess.index = [ \"R2\", \"RMSE\", \"MSE\", \"MAE\"]\n",
    "\n",
    "    print('#'*75)"
   ]
  },
  {
   "cell_type": "code",
   "execution_count": 12,
   "id": "9343d8e8",
   "metadata": {},
   "outputs": [],
   "source": [
    "def initialisation_ener_ess (algo):\n",
    "    estimateur_ener_ess(algo)\n",
    "    resultat_ener_ess(algo)\n",
    "    #learning_curve(algo)\n",
    "    return"
   ]
  },
  {
   "cell_type": "code",
   "execution_count": null,
   "id": "cc403750",
   "metadata": {},
   "outputs": [],
   "source": []
  },
  {
   "cell_type": "code",
   "execution_count": null,
   "id": "42d2f06d",
   "metadata": {},
   "outputs": [],
   "source": []
  },
  {
   "cell_type": "code",
   "execution_count": 13,
   "id": "f550ad9e",
   "metadata": {},
   "outputs": [],
   "source": [
    "scores_algo_co2 = pd.DataFrame()\n",
    "times_algo_co2 = pd.DataFrame()"
   ]
  },
  {
   "cell_type": "code",
   "execution_count": 14,
   "id": "a7411518",
   "metadata": {},
   "outputs": [],
   "source": [
    "def estimateur_co2(algo):\n",
    "    \n",
    "    model = algo #model = SGDRegressor( nb_itérations, learning_rate)\n",
    "\n",
    "\n",
    "    start_time = timeit.default_timer()\n",
    "    model.fit(X_train, y_train) #model.fit(x, y) : pour entrainer votre modèle.\n",
    "    fit_time = timeit.default_timer() - start_time\n",
    "  \n",
    "    model.score(X_test, y_test) # model.score(x, y) : pour évaluer votre modèle.\n",
    "\n",
    "    start_time = timeit.default_timer()\n",
    "    model.predict(X_test) #model.predict(x) : pour générer des prédictions\n",
    "    predict_time = timeit.default_timer() - start_time\n",
    "    \n",
    "    times = fit_time + predict_time\n",
    "    \n",
    "    times_algo_co2[algo] = [times]\n",
    "    \n",
    "    times_algo_co2.index = [\"times\"]\n",
    "    \n",
    "    print('#'*75)  \n",
    "    \n",
    "    print(f'{\"\":<20}{algo}')\n",
    "    #print('train score: ', model.score(X_train, y_train))\n",
    "    #print('test score: ', model.score(X_test, y_test))\n",
    "    #cv_train_score = cross_val_score(model, X_train, y_train, scoring='r2', cv=5)\n",
    "    #print('train cv_score: ', cv_train_score.mean())\n",
    "    #cv_test_score = cross_val_score(model, X_test, y_test, scoring='r2', cv=5)\n",
    "    #print('test cv_score: ', cv_test_score.mean())\n",
    "    print('model score: ',model.score(X_test, y_test))\n",
    "    #print(metrics.r2_score(y_test, model.predict(X_test)))\n",
    "    #print('#'*75)\n",
    "    #print(\"Fit time : {:.2f}s\".format(fit_time))\n",
    "    #print(\"Predict time : {:.2f}s\".format(predict_time))  \n",
    "    #print('#'*75)\n",
    "    print(\"Time processing : {:.2f}s\".format(times))\n",
    "    #print('#'*75)\n",
    "    "
   ]
  },
  {
   "cell_type": "code",
   "execution_count": 15,
   "id": "be40b677",
   "metadata": {},
   "outputs": [],
   "source": [
    "def resultat_co2(algo): \n",
    "    model = algo\n",
    "    R2 = round(r2_score(y_test, model.predict(X_test)),2)\n",
    "    MAE = round(mean_absolute_error(y_test, model.predict(X_test)),2)\n",
    "    MSE = round(mean_squared_error(y_test, model.predict(X_test)),2)\n",
    "    RMSE = round(mean_squared_error(y_test, model.predict(X_test), squared=False),2)\n",
    "    \n",
    "    #print('#'*75)\n",
    "    \n",
    "    print(f'{\"R²\":<40}{R2}')\n",
    "    print(f'{\"Mean Absolute Error\":<40}{MAE}')\n",
    "    print(f'{\"Mean Square Error\":<40}{MSE}')\n",
    "    print(f'{\"Root Mean Square Error\":<40}{RMSE}')\n",
    "    \n",
    "    scores_algo_co2[algo] = [R2,RMSE, MSE, MAE ]\n",
    "    scores_algo_co2.index = [ \"R2\", \"RMSE\", \"MSE\", \"MAE\"]\n",
    "\n",
    "    print('#'*75)"
   ]
  },
  {
   "cell_type": "code",
   "execution_count": 16,
   "id": "99b1997f",
   "metadata": {},
   "outputs": [],
   "source": [
    "def initialisation_co2 (algo):\n",
    "    estimateur_co2(algo)\n",
    "    resultat_co2(algo)\n",
    "    #learning_curve(algo)\n",
    "    return"
   ]
  },
  {
   "cell_type": "code",
   "execution_count": null,
   "id": "c274bda8",
   "metadata": {},
   "outputs": [],
   "source": []
  },
  {
   "cell_type": "code",
   "execution_count": null,
   "id": "c9f58ec8",
   "metadata": {},
   "outputs": [],
   "source": []
  },
  {
   "cell_type": "code",
   "execution_count": 17,
   "id": "bc2aa407",
   "metadata": {},
   "outputs": [],
   "source": [
    "scores_algo_co2_ess = pd.DataFrame()\n",
    "times_algo_co2_ess = pd.DataFrame()"
   ]
  },
  {
   "cell_type": "code",
   "execution_count": 18,
   "id": "b1db22ff",
   "metadata": {},
   "outputs": [],
   "source": [
    "def estimateur_co2_ess(algo):\n",
    "    \n",
    "    model = algo #model = SGDRegressor( nb_itérations, learning_rate)\n",
    "\n",
    "\n",
    "    start_time = timeit.default_timer()\n",
    "    model.fit(X_train, y_train) #model.fit(x, y) : pour entrainer votre modèle.\n",
    "    fit_time = timeit.default_timer() - start_time\n",
    "  \n",
    "    model.score(X_test, y_test) # model.score(x, y) : pour évaluer votre modèle.\n",
    "\n",
    "    start_time = timeit.default_timer()\n",
    "    model.predict(X_test) #model.predict(x) : pour générer des prédictions\n",
    "    predict_time = timeit.default_timer() - start_time\n",
    "    \n",
    "    times = fit_time + predict_time\n",
    "    \n",
    "    times_algo_co2_ess[algo] = [times]\n",
    "    \n",
    "    times_algo_co2_ess.index = [\"times\"]\n",
    "    \n",
    "    print('#'*75)  \n",
    "    \n",
    "    print(f'{\"\":<20}{algo}')\n",
    "    #print('train score: ', model.score(X_train, y_train))\n",
    "    #print('test score: ', model.score(X_test, y_test))\n",
    "    #cv_train_score = cross_val_score(model, X_train, y_train, scoring='r2', cv=5)\n",
    "    #print('train cv_score: ', cv_train_score.mean())\n",
    "    #cv_test_score = cross_val_score(model, X_test, y_test, scoring='r2', cv=5)\n",
    "    #print('test cv_score: ', cv_test_score.mean())\n",
    "    print('model score: ',model.score(X_test, y_test))\n",
    "    #print(metrics.r2_score(y_test, model.predict(X_test)))\n",
    "    #print('#'*75)\n",
    "    #print(\"Fit time : {:.2f}s\".format(fit_time))\n",
    "    #print(\"Predict time : {:.2f}s\".format(predict_time))  \n",
    "    #print('#'*75)\n",
    "    print(\"Time processing : {:.2f}s\".format(times))\n",
    "    #print('#'*75)\n",
    "    "
   ]
  },
  {
   "cell_type": "code",
   "execution_count": 19,
   "id": "6f65ea83",
   "metadata": {},
   "outputs": [],
   "source": [
    "def resultat_co2_ess(algo): \n",
    "    model = algo\n",
    "    R2 = round(r2_score(y_test, model.predict(X_test)),2)\n",
    "    MAE = round(mean_absolute_error(y_test, model.predict(X_test)),2)\n",
    "    MSE = round(mean_squared_error(y_test, model.predict(X_test)),2)\n",
    "    RMSE = round(mean_squared_error(y_test, model.predict(X_test), squared=False),2)\n",
    "    \n",
    "    #print('#'*75)\n",
    "    \n",
    "    print(f'{\"R²\":<40}{R2}')\n",
    "    print(f'{\"Mean Absolute Error\":<40}{MAE}')\n",
    "    print(f'{\"Mean Square Error\":<40}{MSE}')\n",
    "    print(f'{\"Root Mean Square Error\":<40}{RMSE}')\n",
    "    \n",
    "    scores_algo_co2_ess[algo] = [R2,RMSE, MSE, MAE ]\n",
    "    scores_algo_co2_ess.index = [ \"R2\", \"RMSE\", \"MSE\", \"MAE\"]\n",
    "\n",
    "    print('#'*75)"
   ]
  },
  {
   "cell_type": "code",
   "execution_count": 20,
   "id": "d63eaf98",
   "metadata": {},
   "outputs": [],
   "source": [
    "def initialisation_co2_ess (algo):\n",
    "    estimateur_co2_ess(algo)\n",
    "    resultat_co2_ess(algo)\n",
    "    #learning_curve(algo)\n",
    "    return"
   ]
  },
  {
   "cell_type": "code",
   "execution_count": null,
   "id": "9997db22",
   "metadata": {},
   "outputs": [],
   "source": []
  },
  {
   "cell_type": "code",
   "execution_count": 21,
   "id": "afcf0c5d",
   "metadata": {},
   "outputs": [],
   "source": [
    "scores_algo_optim = pd.DataFrame()\n",
    "times_algo_optim  = pd.DataFrame()"
   ]
  },
  {
   "cell_type": "code",
   "execution_count": 22,
   "id": "0aa759fb",
   "metadata": {},
   "outputs": [],
   "source": [
    "def estimateur_optim(algo):\n",
    "    \n",
    "    model = algo #model = SGDRegressor( nb_itérations, learning_rate)\n",
    "\n",
    "\n",
    "    start_time = timeit.default_timer()\n",
    "    model.fit(X_train, y_train) #model.fit(x, y) : pour entrainer votre modèle.\n",
    "    fit_time = timeit.default_timer() - start_time\n",
    "  \n",
    "    model.score(X_test, y_test) # model.score(x, y) : pour évaluer votre modèle.\n",
    "\n",
    "    start_time = timeit.default_timer()\n",
    "    model.predict(X_test) #model.predict(x) : pour générer des prédictions\n",
    "    predict_time = timeit.default_timer() - start_time\n",
    "    \n",
    "    times = fit_time + predict_time\n",
    "    \n",
    "    times_algo_optim[algo] = [times]\n",
    "    \n",
    "    times_algo_optim.index = [\"times\"]\n",
    "    \n",
    "    print('#'*75)  \n",
    "    \n",
    "    print(f'{\"\":<20}{algo}')\n",
    "    #print('train score: ', model.score(X_train, y_train))\n",
    "    #print('test score: ', model.score(X_test, y_test))\n",
    "    #cv_train_score = cross_val_score(model, X_train, y_train, scoring='r2', cv=5)\n",
    "    #print('train cv_score: ', cv_train_score.mean())\n",
    "    #cv_test_score = cross_val_score(model, X_test, y_test, scoring='r2', cv=5)\n",
    "    #print('test cv_score: ', cv_test_score.mean())\n",
    "    print('model score: ',model.score(X_test, y_test))\n",
    "    ##print(metrics.r2_score(y_test, model.predict(X_test)))\n",
    "    #print('#'*75)\n",
    "    #print(\"Fit time : {:.2f}s\".format(fit_time))\n",
    "    #print(\"Predict time : {:.2f}s\".format(predict_time))  \n",
    "    #print('#'*75)\n",
    "    print(\"Time processing : {:.2f}s\".format(times))\n",
    "    #print('#'*75)\n",
    "    "
   ]
  },
  {
   "cell_type": "code",
   "execution_count": 23,
   "id": "50be9a91",
   "metadata": {},
   "outputs": [],
   "source": [
    "def resultat_optim(algo): \n",
    "    model = algo\n",
    "    R2 = round(r2_score(y_test, model.predict(X_test)),2)\n",
    "    MAE = round(mean_absolute_error(y_test, model.predict(X_test)),2)\n",
    "    MSE = round(mean_squared_error(y_test, model.predict(X_test)),2)\n",
    "    RMSE = round(mean_squared_error(y_test, model.predict(X_test), squared=False),2)\n",
    "    \n",
    "    #print('#'*75)\n",
    "    \n",
    "    print(f'{\"R²\":<40}{R2}')\n",
    "    print(f'{\"Mean Absolute Error\":<40}{MAE}')\n",
    "    print(f'{\"Mean Square Error\":<40}{MSE}')\n",
    "    print(f'{\"Root Mean Square Error\":<40}{RMSE}')\n",
    "    \n",
    "    scores_algo_optim[algo] = [R2,RMSE, MSE, MAE ]\n",
    "    scores_algo_optim.index = [ \"R2\", \"RMSE\", \"MSE\", \"MAE\"]\n",
    "\n",
    "    print('#'*75)"
   ]
  },
  {
   "cell_type": "code",
   "execution_count": 24,
   "id": "e2bf7059",
   "metadata": {},
   "outputs": [],
   "source": [
    "def optim (algo):\n",
    "    estimateur_optim(algo)\n",
    "    resultat_optim(algo)\n",
    "    #learning_curve(algo)\n",
    "    return"
   ]
  },
  {
   "cell_type": "code",
   "execution_count": 25,
   "id": "10843852",
   "metadata": {},
   "outputs": [],
   "source": [
    "def feat_selec_score (selector):\n",
    "    R2 = round(r2_score(y_test, selector.predict(X_test)),2)\n",
    "    MAE = round(mean_absolute_error(y_test, selector.predict(X_test)),2)\n",
    "    MSE = round(mean_squared_error(y_test, selector.predict(X_test)),2)\n",
    "    RMSE = round(mean_squared_error(y_test, selector.predict(X_test), squared=False),2)\n",
    "    \n",
    "    #print('#'*75)\n",
    "    \n",
    "    print(f'{\"R²\":<40}{R2}')\n",
    "    print(f'{\"Mean Absolute Error\":<40}{MAE}')\n",
    "    print(f'{\"Mean Square Error\":<40}{MSE}')\n",
    "    print(f'{\"Root Mean Square Error\":<40}{RMSE}')"
   ]
  },
  {
   "cell_type": "markdown",
   "id": "96a7f4ba",
   "metadata": {},
   "source": [
    "# Mise en place du jeu d'entrainement et de test pour SiteEnergyUse(kBtu)"
   ]
  },
  {
   "cell_type": "code",
   "execution_count": 26,
   "id": "a0902c6a",
   "metadata": {
    "tags": []
   },
   "outputs": [],
   "source": [
    "X = data.drop(['SiteEnergyUse(kBtu)'],axis=1) #TotalGHGEmissions\n",
    "y = data['SiteEnergyUse(kBtu)']"
   ]
  },
  {
   "cell_type": "code",
   "execution_count": 27,
   "id": "7fe25e24",
   "metadata": {},
   "outputs": [
    {
     "name": "stdout",
     "output_type": "stream",
     "text": [
      "train set:  (2548, 584) (2548,)\n",
      "test set:  (638, 584) (638,)\n"
     ]
    }
   ],
   "source": [
    "X_train, X_test, y_train, y_test = train_test_split(X, y,test_size=0.2,random_state=0)\n",
    "\n",
    "print('train set: ',X_train.shape, y_train.shape)\n",
    "print('test set: ', X_test.shape, y_test.shape)"
   ]
  },
  {
   "cell_type": "markdown",
   "id": "ea87219c",
   "metadata": {},
   "source": [
    "## StratifiedKFold"
   ]
  },
  {
   "cell_type": "markdown",
   "id": "13766739",
   "metadata": {},
   "source": [
    "nb_cut = 5\n",
    "\n",
    "cut = pd.qcut(y_train, nb_cut)\n",
    "cut_ranges = cut.unique().sort_values()\n",
    "cut_ranges"
   ]
  },
  {
   "cell_type": "markdown",
   "id": "6933edc4",
   "metadata": {},
   "source": [
    "score = []\n",
    "\n",
    "for rank in cut:\n",
    "    for i, ranges in enumerate(cut_ranges):\n",
    "        if rank == ranges:\n",
    "            score.append(i+1)\n",
    "\n",
    "y_train_rank = score"
   ]
  },
  {
   "cell_type": "markdown",
   "id": "748dc7b8",
   "metadata": {},
   "source": [
    "from sklearn.model_selection import StratifiedKFold\n",
    "\n",
    "stratified_folds = list(StratifiedKFold(n_splits=5, shuffle=True).split(X_train, y_train_rank))"
   ]
  },
  {
   "cell_type": "markdown",
   "id": "5488d37d",
   "metadata": {},
   "source": [
    "# Lancement des algorithmes"
   ]
  },
  {
   "cell_type": "code",
   "execution_count": 28,
   "id": "627c2f16",
   "metadata": {
    "scrolled": true
   },
   "outputs": [
    {
     "name": "stdout",
     "output_type": "stream",
     "text": [
      "###########################################################################\n",
      "                    DummyRegressor()\n",
      "model score:  -0.0014419102464506839\n",
      "Time processing : 0.00s\n",
      "R²                                      -0.0\n",
      "Mean Absolute Error                     0.58\n",
      "Mean Square Error                       0.84\n",
      "Root Mean Square Error                  0.92\n",
      "###########################################################################\n",
      "###########################################################################\n",
      "                    Lasso()\n",
      "model score:  -0.0014419102464506839\n",
      "Time processing : 0.02s\n",
      "R²                                      -0.0\n",
      "Mean Absolute Error                     0.58\n",
      "Mean Square Error                       0.84\n",
      "Root Mean Square Error                  0.92\n",
      "###########################################################################\n",
      "###########################################################################\n",
      "                    Ridge()\n",
      "model score:  0.9276739104826748\n",
      "Time processing : 0.04s\n",
      "R²                                      0.93\n",
      "Mean Absolute Error                     0.13\n",
      "Mean Square Error                       0.06\n",
      "Root Mean Square Error                  0.25\n",
      "###########################################################################\n",
      "###########################################################################\n",
      "                    ElasticNet()\n",
      "model score:  0.4182440724372112\n",
      "Time processing : 0.01s\n",
      "R²                                      0.42\n",
      "Mean Absolute Error                     0.43\n",
      "Mean Square Error                       0.49\n",
      "Root Mean Square Error                  0.7\n",
      "###########################################################################\n",
      "###########################################################################\n",
      "                    KernelRidge()\n",
      "model score:  0.9247993476533033\n",
      "Time processing : 0.23s\n",
      "R²                                      0.92\n",
      "Mean Absolute Error                     0.13\n",
      "Mean Square Error                       0.06\n",
      "Root Mean Square Error                  0.25\n",
      "###########################################################################\n",
      "###########################################################################\n",
      "                    SVR()\n",
      "model score:  0.6778777479471916\n",
      "Time processing : 0.65s\n",
      "R²                                      0.68\n",
      "Mean Absolute Error                     0.21\n",
      "Mean Square Error                       0.27\n",
      "Root Mean Square Error                  0.52\n",
      "###########################################################################\n"
     ]
    }
   ],
   "source": [
    "initialisation_ener(DummyRegressor())\n",
    "initialisation_ener(linear_model.Lasso())\n",
    "initialisation_ener(Ridge())\n",
    "initialisation_ener(ElasticNet())\n",
    "initialisation_ener(KernelRidge())\n",
    "initialisation_ener(SVR())"
   ]
  },
  {
   "cell_type": "code",
   "execution_count": 29,
   "id": "59421860",
   "metadata": {},
   "outputs": [
    {
     "data": {
      "text/html": [
       "<div>\n",
       "<style scoped>\n",
       "    .dataframe tbody tr th:only-of-type {\n",
       "        vertical-align: middle;\n",
       "    }\n",
       "\n",
       "    .dataframe tbody tr th {\n",
       "        vertical-align: top;\n",
       "    }\n",
       "\n",
       "    .dataframe thead th {\n",
       "        text-align: right;\n",
       "    }\n",
       "</style>\n",
       "<table border=\"1\" class=\"dataframe\">\n",
       "  <thead>\n",
       "    <tr style=\"text-align: right;\">\n",
       "      <th></th>\n",
       "      <th>R2</th>\n",
       "      <th>RMSE</th>\n",
       "      <th>MSE</th>\n",
       "      <th>MAE</th>\n",
       "      <th>times</th>\n",
       "    </tr>\n",
       "  </thead>\n",
       "  <tbody>\n",
       "    <tr>\n",
       "      <th>Ridge()</th>\n",
       "      <td>0.93</td>\n",
       "      <td>0.25</td>\n",
       "      <td>0.06</td>\n",
       "      <td>0.13</td>\n",
       "      <td>0.036880</td>\n",
       "    </tr>\n",
       "    <tr>\n",
       "      <th>KernelRidge()</th>\n",
       "      <td>0.92</td>\n",
       "      <td>0.25</td>\n",
       "      <td>0.06</td>\n",
       "      <td>0.13</td>\n",
       "      <td>0.229496</td>\n",
       "    </tr>\n",
       "    <tr>\n",
       "      <th>SVR()</th>\n",
       "      <td>0.68</td>\n",
       "      <td>0.52</td>\n",
       "      <td>0.27</td>\n",
       "      <td>0.21</td>\n",
       "      <td>0.652264</td>\n",
       "    </tr>\n",
       "    <tr>\n",
       "      <th>ElasticNet()</th>\n",
       "      <td>0.42</td>\n",
       "      <td>0.70</td>\n",
       "      <td>0.49</td>\n",
       "      <td>0.43</td>\n",
       "      <td>0.011288</td>\n",
       "    </tr>\n",
       "    <tr>\n",
       "      <th>DummyRegressor()</th>\n",
       "      <td>-0.00</td>\n",
       "      <td>0.92</td>\n",
       "      <td>0.84</td>\n",
       "      <td>0.58</td>\n",
       "      <td>0.000484</td>\n",
       "    </tr>\n",
       "    <tr>\n",
       "      <th>Lasso()</th>\n",
       "      <td>-0.00</td>\n",
       "      <td>0.92</td>\n",
       "      <td>0.84</td>\n",
       "      <td>0.58</td>\n",
       "      <td>0.017495</td>\n",
       "    </tr>\n",
       "  </tbody>\n",
       "</table>\n",
       "</div>"
      ],
      "text/plain": [
       "                    R2  RMSE   MSE   MAE     times\n",
       "Ridge()           0.93  0.25  0.06  0.13  0.036880\n",
       "KernelRidge()     0.92  0.25  0.06  0.13  0.229496\n",
       "SVR()             0.68  0.52  0.27  0.21  0.652264\n",
       "ElasticNet()      0.42  0.70  0.49  0.43  0.011288\n",
       "DummyRegressor() -0.00  0.92  0.84  0.58  0.000484\n",
       "Lasso()          -0.00  0.92  0.84  0.58  0.017495"
      ]
     },
     "execution_count": 29,
     "metadata": {},
     "output_type": "execute_result"
    }
   ],
   "source": [
    "result_ener = pd.concat([scores_algo_ener, times_algo_ener])\n",
    "result_ener.T.sort_values(by=\"R2\",ascending=False)"
   ]
  },
  {
   "cell_type": "markdown",
   "id": "ec50590e",
   "metadata": {},
   "source": [
    "model selectionné Ridge, KRR "
   ]
  },
  {
   "cell_type": "markdown",
   "id": "4fc14a96",
   "metadata": {},
   "source": [
    "# Selection des features au travers de RFECV"
   ]
  },
  {
   "cell_type": "code",
   "execution_count": 30,
   "id": "39b75bd8",
   "metadata": {},
   "outputs": [
    {
     "data": {
      "text/plain": [
       "RFECV(cv=5, estimator=Ridge(random_state=0), min_features_to_select=2,\n",
       "      scoring='r2')"
      ]
     },
     "execution_count": 30,
     "metadata": {},
     "output_type": "execute_result"
    }
   ],
   "source": [
    "RFECV_ridge = RFECV(Ridge(random_state=0), scoring='r2', step=1, min_features_to_select=2, cv=5)\n",
    "RFECV_ridge.fit(X_train, y_train)"
   ]
  },
  {
   "cell_type": "code",
   "execution_count": 31,
   "id": "49ea50a7",
   "metadata": {
    "scrolled": false
   },
   "outputs": [
    {
     "name": "stdout",
     "output_type": "stream",
     "text": [
      "R²                                      0.93\n",
      "Mean Absolute Error                     0.13\n",
      "Mean Square Error                       0.06\n",
      "Root Mean Square Error                  0.24\n"
     ]
    }
   ],
   "source": [
    "feat_selec_score(RFECV_ridge)"
   ]
  },
  {
   "cell_type": "markdown",
   "id": "1e943f70",
   "metadata": {},
   "source": [
    "RFECV n'a pas un impact positif "
   ]
  },
  {
   "cell_type": "markdown",
   "id": "eada1a06",
   "metadata": {},
   "source": [
    "Feature importance globale avec Ridge"
   ]
  },
  {
   "cell_type": "code",
   "execution_count": 32,
   "id": "371e7c80",
   "metadata": {},
   "outputs": [],
   "source": [
    "n_alphas = 200\n",
    "alphas = np.logspace(-10, -2, n_alphas)\n",
    "\n",
    "coefs = []\n",
    "for a in alphas:\n",
    "    ridge = linear_model.Ridge(alpha=a, fit_intercept=False)\n",
    "    ridge.fit(X, y)\n",
    "    coefs.append(ridge.coef_)"
   ]
  },
  {
   "cell_type": "code",
   "execution_count": 33,
   "id": "aff72743",
   "metadata": {
    "scrolled": true
   },
   "outputs": [
    {
     "data": {
      "image/png": "[encoded data removed]",
      "text/plain": [
       "<Figure size 432x288 with 1 Axes>"
      ]
     },
     "metadata": {
      "needs_background": "light"
     },
     "output_type": "display_data"
    }
   ],
   "source": [
    "ax = plt.gca()\n",
    "\n",
    "ax.plot(alphas, coefs)\n",
    "ax.set_xscale(\"log\")\n",
    "ax.set_xlim(ax.get_xlim()[::-1])  # reverse axis\n",
    "plt.xlabel(\"alpha\")\n",
    "plt.ylabel(\"weights\")\n",
    "plt.title(\"Ridge coefficients as a function of the regularization\")\n",
    "plt.axis(\"tight\")\n",
    "plt.show()"
   ]
  },
  {
   "cell_type": "markdown",
   "id": "cef146bc",
   "metadata": {},
   "source": [
    "# Visualisation des features importances au travers de Shap"
   ]
  },
  {
   "cell_type": "code",
   "execution_count": 34,
   "id": "5ee3f826",
   "metadata": {},
   "outputs": [
    {
     "data": {
      "text/plain": [
       "Ridge()"
      ]
     },
     "execution_count": 34,
     "metadata": {},
     "output_type": "execute_result"
    }
   ],
   "source": [
    "model = Ridge()\n",
    "model.fit(X_train, y_train)"
   ]
  },
  {
   "cell_type": "code",
   "execution_count": 35,
   "id": "984208a8",
   "metadata": {},
   "outputs": [],
   "source": [
    "explainer = shap.LinearExplainer(model, X_train, feature_dependence=\"independent\")"
   ]
  },
  {
   "cell_type": "code",
   "execution_count": 36,
   "id": "fbee380f",
   "metadata": {},
   "outputs": [],
   "source": [
    "shap_values = explainer.shap_values(X_test)"
   ]
  },
  {
   "cell_type": "code",
   "execution_count": 37,
   "id": "156bf0b6",
   "metadata": {},
   "outputs": [],
   "source": [
    "X_test_array = np.array(X_test)"
   ]
  },
  {
   "cell_type": "code",
   "execution_count": 38,
   "id": "7942217c",
   "metadata": {},
   "outputs": [
    {
     "data": {
      "image/png": "[encoded data removed]",
      "text/plain": [
       "<Figure size 576x684 with 2 Axes>"
      ]
     },
     "metadata": {
      "needs_background": "light"
     },
     "output_type": "display_data"
    }
   ],
   "source": [
    "shap.summary_plot(shap_values, X_test_array, feature_names=data.columns)"
   ]
  },
  {
   "cell_type": "code",
   "execution_count": 39,
   "id": "41df083d",
   "metadata": {},
   "outputs": [],
   "source": [
    "explainer = shap.Explainer(model, X)\n",
    "shap_values = explainer(X)"
   ]
  },
  {
   "cell_type": "code",
   "execution_count": 40,
   "id": "08a8dfe9",
   "metadata": {},
   "outputs": [],
   "source": [
    "shap_values = explainer(X)"
   ]
  },
  {
   "cell_type": "markdown",
   "id": "6dfeb539",
   "metadata": {},
   "source": [
    "shap.plots.bar(shap_values)"
   ]
  },
  {
   "cell_type": "code",
   "execution_count": 41,
   "id": "8ea9b696",
   "metadata": {
    "scrolled": true
   },
   "outputs": [
    {
     "data": {
      "image/png": "[encoded data removed]",
      "text/plain": [
       "<Figure size 576x468 with 1 Axes>"
      ]
     },
     "metadata": {},
     "output_type": "display_data"
    }
   ],
   "source": [
    "shap.plots.bar(shap_values, max_display=10)"
   ]
  },
  {
   "cell_type": "code",
   "execution_count": null,
   "id": "424842ae",
   "metadata": {},
   "outputs": [],
   "source": []
  },
  {
   "cell_type": "code",
   "execution_count": null,
   "id": "daa22bdf",
   "metadata": {},
   "outputs": [],
   "source": []
  },
  {
   "cell_type": "markdown",
   "id": "2180cce1",
   "metadata": {},
   "source": [
    "# Optimisation des hyperparamètres"
   ]
  },
  {
   "cell_type": "code",
   "execution_count": 42,
   "id": "53fbf510",
   "metadata": {},
   "outputs": [
    {
     "name": "stdout",
     "output_type": "stream",
     "text": [
      "Best parameters on training set :\n",
      "{'alpha': 46.41588833612782, 'solver': 'sparse_cg'}\n",
      "Best R² score on training set : 0.900\n"
     ]
    }
   ],
   "source": [
    "# Parameters optimization\n",
    "n_alphas = 10\n",
    "alphas = np.logspace(-5, 5, n_alphas)\n",
    "solver = [\"svd\", \"cholesky\", \"lsqr\", \"sparse_cg\", \"sag\", \"saga\", \"lbfgs\"]\n",
    "param_grid = {'alpha': alphas,\n",
    "             \"solver\": solver}\n",
    "\n",
    "\n",
    "score = 'r2'\n",
    "\n",
    "# Grid search\n",
    "optimized_ridge = model_selection.GridSearchCV(\n",
    "    Ridge(),\n",
    "    param_grid,\n",
    "    cv=5,\n",
    "    scoring=score\n",
    ")\n",
    "\n",
    "optimized_ridge.fit(X_train, y_train)\n",
    "\n",
    "# Display best parameters and score\n",
    "print(\"Best parameters on training set :\")\n",
    "print(optimized_ridge.best_params_)\n",
    "print(\"Best R² score on training set : {:.3f}\".format(optimized_ridge.best_score_))"
   ]
  },
  {
   "cell_type": "code",
   "execution_count": 43,
   "id": "6c2cb2a3",
   "metadata": {},
   "outputs": [],
   "source": [
    "Ridge_optim = Ridge()"
   ]
  },
  {
   "cell_type": "code",
   "execution_count": 44,
   "id": "df367058",
   "metadata": {
    "scrolled": true
   },
   "outputs": [
    {
     "data": {
      "text/plain": [
       "Ridge(alpha=46.41588833612782, solver='sparse_cg')"
      ]
     },
     "execution_count": 44,
     "metadata": {},
     "output_type": "execute_result"
    }
   ],
   "source": [
    "Ridge_optim.set_params(**optimized_ridge.best_params_)"
   ]
  },
  {
   "cell_type": "code",
   "execution_count": 45,
   "id": "4cc6e7cb",
   "metadata": {
    "scrolled": true
   },
   "outputs": [],
   "source": [
    "Ridge_optim = Ridge_optim.set_params(**optimized_ridge.best_params_)"
   ]
  },
  {
   "cell_type": "code",
   "execution_count": 46,
   "id": "ae10ff23",
   "metadata": {
    "scrolled": false
   },
   "outputs": [
    {
     "name": "stdout",
     "output_type": "stream",
     "text": [
      "###########################################################################\n",
      "                    Ridge(alpha=46.41588833612782, solver='sparse_cg')\n",
      "model score:  0.9293445240170289\n",
      "Time processing : 0.04s\n",
      "R²                                      0.93\n",
      "Mean Absolute Error                     0.13\n",
      "Mean Square Error                       0.06\n",
      "Root Mean Square Error                  0.24\n",
      "###########################################################################\n"
     ]
    }
   ],
   "source": [
    "optim(Ridge_optim)"
   ]
  },
  {
   "cell_type": "code",
   "execution_count": null,
   "id": "802e0293",
   "metadata": {},
   "outputs": [],
   "source": []
  },
  {
   "cell_type": "code",
   "execution_count": null,
   "id": "45d7901f",
   "metadata": {},
   "outputs": [],
   "source": []
  },
  {
   "cell_type": "code",
   "execution_count": null,
   "id": "eee242a8",
   "metadata": {},
   "outputs": [],
   "source": []
  },
  {
   "cell_type": "code",
   "execution_count": 47,
   "id": "85eb573c",
   "metadata": {},
   "outputs": [
    {
     "name": "stdout",
     "output_type": "stream",
     "text": [
      "Best parameters on training set :\n",
      "{'alpha': 46.41588833612782, 'gamma': 0.01, 'kernel': 'linear'}\n",
      "Best R² score on training set : 0.900\n"
     ]
    }
   ],
   "source": [
    "# Parameters optimization\n",
    "#kernels = ['additive_chi2', 'chi2', 'linear', 'polynomial', 'poly', 'rbf', 'laplacian', 'sigmoid', 'cosine']\n",
    "n_alphas = 10\n",
    "alphas = np.logspace(-5, 5, n_alphas)\n",
    "\n",
    "n_gammas = 10\n",
    "gammas = np.logspace(-2, 1, n_gammas)\n",
    "\n",
    "kernels = ['linear', 'rbf' ]\n",
    "\n",
    "param_grid = {'alpha': alphas, \n",
    "              'gamma': gammas,\n",
    "              'kernel' : kernels}\n",
    "\n",
    "score = 'r2'\n",
    "\n",
    "# Grid search\n",
    "optimized_k_ridge = model_selection.GridSearchCV(\n",
    "    KernelRidge(),\n",
    "    param_grid,\n",
    "    cv=5,\n",
    "    scoring=score\n",
    ")\n",
    "\n",
    "optimized_k_ridge.fit(X_train, y_train)\n",
    "\n",
    "# Display best parameters and score\n",
    "print(\"Best parameters on training set :\")\n",
    "print(optimized_k_ridge.best_params_)\n",
    "print(\"Best R² score on training set : {:.3f}\".format(optimized_k_ridge.best_score_))"
   ]
  },
  {
   "cell_type": "code",
   "execution_count": 48,
   "id": "a5c06e2e",
   "metadata": {},
   "outputs": [],
   "source": [
    "KRidge_optim = KernelRidge()"
   ]
  },
  {
   "cell_type": "code",
   "execution_count": 49,
   "id": "cd2d31a6",
   "metadata": {
    "scrolled": true
   },
   "outputs": [
    {
     "data": {
      "text/plain": [
       "KernelRidge(alpha=46.41588833612782, gamma=0.01)"
      ]
     },
     "execution_count": 49,
     "metadata": {},
     "output_type": "execute_result"
    }
   ],
   "source": [
    "KRidge_optim.set_params(**optimized_k_ridge.best_params_)"
   ]
  },
  {
   "cell_type": "code",
   "execution_count": 50,
   "id": "e46a42a7",
   "metadata": {
    "scrolled": true
   },
   "outputs": [],
   "source": [
    "KRidge_optim = KRidge_optim.set_params(**optimized_k_ridge.best_params_)"
   ]
  },
  {
   "cell_type": "code",
   "execution_count": 51,
   "id": "7fb3761e",
   "metadata": {},
   "outputs": [
    {
     "name": "stdout",
     "output_type": "stream",
     "text": [
      "###########################################################################\n",
      "                    KernelRidge(alpha=46.41588833612782, gamma=0.01)\n",
      "model score:  0.9289312384298893\n",
      "Time processing : 0.24s\n",
      "R²                                      0.93\n",
      "Mean Absolute Error                     0.13\n",
      "Mean Square Error                       0.06\n",
      "Root Mean Square Error                  0.24\n",
      "###########################################################################\n"
     ]
    }
   ],
   "source": [
    "optim(KRidge_optim)"
   ]
  },
  {
   "cell_type": "code",
   "execution_count": null,
   "id": "061aebbf",
   "metadata": {},
   "outputs": [],
   "source": []
  },
  {
   "cell_type": "code",
   "execution_count": 52,
   "id": "da7dce6c",
   "metadata": {
    "scrolled": true
   },
   "outputs": [
    {
     "data": {
      "text/html": [
       "<div>\n",
       "<style scoped>\n",
       "    .dataframe tbody tr th:only-of-type {\n",
       "        vertical-align: middle;\n",
       "    }\n",
       "\n",
       "    .dataframe tbody tr th {\n",
       "        vertical-align: top;\n",
       "    }\n",
       "\n",
       "    .dataframe thead th {\n",
       "        text-align: right;\n",
       "    }\n",
       "</style>\n",
       "<table border=\"1\" class=\"dataframe\">\n",
       "  <thead>\n",
       "    <tr style=\"text-align: right;\">\n",
       "      <th></th>\n",
       "      <th>R2</th>\n",
       "      <th>RMSE</th>\n",
       "      <th>MSE</th>\n",
       "      <th>MAE</th>\n",
       "      <th>times</th>\n",
       "    </tr>\n",
       "  </thead>\n",
       "  <tbody>\n",
       "    <tr>\n",
       "      <th>Ridge(alpha=46.41588833612782, solver='sparse_cg')</th>\n",
       "      <td>0.93</td>\n",
       "      <td>0.24</td>\n",
       "      <td>0.06</td>\n",
       "      <td>0.13</td>\n",
       "      <td>0.036042</td>\n",
       "    </tr>\n",
       "    <tr>\n",
       "      <th>KernelRidge(alpha=46.41588833612782, gamma=0.01)</th>\n",
       "      <td>0.93</td>\n",
       "      <td>0.24</td>\n",
       "      <td>0.06</td>\n",
       "      <td>0.13</td>\n",
       "      <td>0.237860</td>\n",
       "    </tr>\n",
       "  </tbody>\n",
       "</table>\n",
       "</div>"
      ],
      "text/plain": [
       "                                                      R2  RMSE   MSE   MAE  \\\n",
       "Ridge(alpha=46.41588833612782, solver='sparse_cg')  0.93  0.24  0.06  0.13   \n",
       "KernelRidge(alpha=46.41588833612782, gamma=0.01)    0.93  0.24  0.06  0.13   \n",
       "\n",
       "                                                       times  \n",
       "Ridge(alpha=46.41588833612782, solver='sparse_cg')  0.036042  \n",
       "KernelRidge(alpha=46.41588833612782, gamma=0.01)    0.237860  "
      ]
     },
     "execution_count": 52,
     "metadata": {},
     "output_type": "execute_result"
    }
   ],
   "source": [
    "result_optim = pd.concat([scores_algo_optim, times_algo_optim])\n",
    "result_optim.T.sort_values(by=\"R2\",ascending=False)"
   ]
  },
  {
   "cell_type": "markdown",
   "id": "2a5fbbd3",
   "metadata": {},
   "source": [
    "# Rechargement du dataset pour récupérer TotalGHGEmissions"
   ]
  },
  {
   "cell_type": "code",
   "execution_count": 53,
   "id": "0a92861c",
   "metadata": {},
   "outputs": [],
   "source": [
    "data = pd.read_csv('/Users/gauthierrault/Desktop/Projet_4/data_clean.csv')"
   ]
  },
  {
   "cell_type": "code",
   "execution_count": 54,
   "id": "feb479c3",
   "metadata": {},
   "outputs": [],
   "source": [
    "data.drop(['Unnamed: 0'], axis=1, inplace=True)"
   ]
  },
  {
   "cell_type": "code",
   "execution_count": 55,
   "id": "5bed66ab",
   "metadata": {
    "tags": []
   },
   "outputs": [],
   "source": [
    "X = data.drop(['TotalGHGEmissions'],axis=1) \n",
    "y = data['TotalGHGEmissions']"
   ]
  },
  {
   "cell_type": "code",
   "execution_count": 56,
   "id": "81a8fb9b",
   "metadata": {},
   "outputs": [
    {
     "name": "stdout",
     "output_type": "stream",
     "text": [
      "train set:  (2548, 584) (2548,)\n",
      "test set:  (638, 584) (638,)\n"
     ]
    }
   ],
   "source": [
    "X_train, X_test, y_train, y_test = train_test_split(X, y,test_size=0.2,random_state=0)\n",
    "\n",
    "print('train set: ',X_train.shape, y_train.shape)\n",
    "print('test set: ', X_test.shape, y_test.shape)"
   ]
  },
  {
   "cell_type": "code",
   "execution_count": null,
   "id": "f2d8b8b1",
   "metadata": {},
   "outputs": [],
   "source": []
  },
  {
   "cell_type": "code",
   "execution_count": 57,
   "id": "f4943fe8",
   "metadata": {
    "scrolled": true
   },
   "outputs": [
    {
     "name": "stdout",
     "output_type": "stream",
     "text": [
      "###########################################################################\n",
      "                    DummyRegressor()\n",
      "model score:  -0.004496361918153946\n",
      "Time processing : 0.00s\n",
      "R²                                      -0.0\n",
      "Mean Absolute Error                     0.52\n",
      "Mean Square Error                       0.76\n",
      "Root Mean Square Error                  0.87\n",
      "###########################################################################\n",
      "###########################################################################\n",
      "                    Lasso()\n",
      "model score:  -0.004496361918153946\n",
      "Time processing : 0.01s\n",
      "R²                                      -0.0\n",
      "Mean Absolute Error                     0.52\n",
      "Mean Square Error                       0.76\n",
      "Root Mean Square Error                  0.87\n",
      "###########################################################################\n",
      "###########################################################################\n",
      "                    Ridge()\n",
      "model score:  0.8495805627899586\n",
      "Time processing : 0.03s\n",
      "R²                                      0.85\n",
      "Mean Absolute Error                     0.17\n",
      "Mean Square Error                       0.11\n",
      "Root Mean Square Error                  0.34\n",
      "###########################################################################\n",
      "###########################################################################\n",
      "                    ElasticNet()\n",
      "model score:  0.3286337924870608\n",
      "Time processing : 0.01s\n",
      "R²                                      0.33\n",
      "Mean Absolute Error                     0.41\n",
      "Mean Square Error                       0.51\n",
      "Root Mean Square Error                  0.71\n",
      "###########################################################################\n",
      "###########################################################################\n",
      "                    KernelRidge()\n",
      "model score:  0.8482485548524114\n",
      "Time processing : 0.24s\n",
      "R²                                      0.85\n",
      "Mean Absolute Error                     0.18\n",
      "Mean Square Error                       0.11\n",
      "Root Mean Square Error                  0.34\n",
      "###########################################################################\n",
      "###########################################################################\n",
      "                    SVR()\n",
      "model score:  0.5817538229990762\n",
      "Time processing : 0.78s\n",
      "R²                                      0.58\n",
      "Mean Absolute Error                     0.22\n",
      "Mean Square Error                       0.32\n",
      "Root Mean Square Error                  0.56\n",
      "###########################################################################\n"
     ]
    }
   ],
   "source": [
    "initialisation_co2(DummyRegressor())\n",
    "initialisation_co2(linear_model.Lasso())\n",
    "initialisation_co2(Ridge())\n",
    "initialisation_co2(ElasticNet())\n",
    "initialisation_co2(KernelRidge())\n",
    "initialisation_co2(SVR())"
   ]
  },
  {
   "cell_type": "code",
   "execution_count": 58,
   "id": "7f451a17",
   "metadata": {},
   "outputs": [
    {
     "data": {
      "text/html": [
       "<div>\n",
       "<style scoped>\n",
       "    .dataframe tbody tr th:only-of-type {\n",
       "        vertical-align: middle;\n",
       "    }\n",
       "\n",
       "    .dataframe tbody tr th {\n",
       "        vertical-align: top;\n",
       "    }\n",
       "\n",
       "    .dataframe thead th {\n",
       "        text-align: right;\n",
       "    }\n",
       "</style>\n",
       "<table border=\"1\" class=\"dataframe\">\n",
       "  <thead>\n",
       "    <tr style=\"text-align: right;\">\n",
       "      <th></th>\n",
       "      <th>R2</th>\n",
       "      <th>RMSE</th>\n",
       "      <th>MSE</th>\n",
       "      <th>MAE</th>\n",
       "      <th>times</th>\n",
       "    </tr>\n",
       "  </thead>\n",
       "  <tbody>\n",
       "    <tr>\n",
       "      <th>Ridge()</th>\n",
       "      <td>0.85</td>\n",
       "      <td>0.34</td>\n",
       "      <td>0.11</td>\n",
       "      <td>0.17</td>\n",
       "      <td>0.034958</td>\n",
       "    </tr>\n",
       "    <tr>\n",
       "      <th>KernelRidge()</th>\n",
       "      <td>0.85</td>\n",
       "      <td>0.34</td>\n",
       "      <td>0.11</td>\n",
       "      <td>0.18</td>\n",
       "      <td>0.239662</td>\n",
       "    </tr>\n",
       "    <tr>\n",
       "      <th>SVR()</th>\n",
       "      <td>0.58</td>\n",
       "      <td>0.56</td>\n",
       "      <td>0.32</td>\n",
       "      <td>0.22</td>\n",
       "      <td>0.781316</td>\n",
       "    </tr>\n",
       "    <tr>\n",
       "      <th>ElasticNet()</th>\n",
       "      <td>0.33</td>\n",
       "      <td>0.71</td>\n",
       "      <td>0.51</td>\n",
       "      <td>0.41</td>\n",
       "      <td>0.011066</td>\n",
       "    </tr>\n",
       "    <tr>\n",
       "      <th>DummyRegressor()</th>\n",
       "      <td>-0.00</td>\n",
       "      <td>0.87</td>\n",
       "      <td>0.76</td>\n",
       "      <td>0.52</td>\n",
       "      <td>0.000379</td>\n",
       "    </tr>\n",
       "    <tr>\n",
       "      <th>Lasso()</th>\n",
       "      <td>-0.00</td>\n",
       "      <td>0.87</td>\n",
       "      <td>0.76</td>\n",
       "      <td>0.52</td>\n",
       "      <td>0.013355</td>\n",
       "    </tr>\n",
       "  </tbody>\n",
       "</table>\n",
       "</div>"
      ],
      "text/plain": [
       "                    R2  RMSE   MSE   MAE     times\n",
       "Ridge()           0.85  0.34  0.11  0.17  0.034958\n",
       "KernelRidge()     0.85  0.34  0.11  0.18  0.239662\n",
       "SVR()             0.58  0.56  0.32  0.22  0.781316\n",
       "ElasticNet()      0.33  0.71  0.51  0.41  0.011066\n",
       "DummyRegressor() -0.00  0.87  0.76  0.52  0.000379\n",
       "Lasso()          -0.00  0.87  0.76  0.52  0.013355"
      ]
     },
     "execution_count": 58,
     "metadata": {},
     "output_type": "execute_result"
    }
   ],
   "source": [
    "result_co2 = pd.concat([scores_algo_co2, times_algo_co2])\n",
    "result_co2.T.sort_values(by=\"R2\",ascending=False)"
   ]
  },
  {
   "cell_type": "code",
   "execution_count": null,
   "id": "72f2268b",
   "metadata": {},
   "outputs": [],
   "source": []
  },
  {
   "cell_type": "code",
   "execution_count": 59,
   "id": "640e6aaf",
   "metadata": {},
   "outputs": [
    {
     "data": {
      "text/plain": [
       "RFECV(cv=5, estimator=Ridge(random_state=0), min_features_to_select=2,\n",
       "      scoring='r2')"
      ]
     },
     "execution_count": 59,
     "metadata": {},
     "output_type": "execute_result"
    }
   ],
   "source": [
    "RFECV_ridge = RFECV(Ridge(random_state=0), scoring='r2', step=1, min_features_to_select=2, cv=5)\n",
    "RFECV_ridge.fit(X_train, y_train)"
   ]
  },
  {
   "cell_type": "code",
   "execution_count": 60,
   "id": "a11d1e7b",
   "metadata": {
    "scrolled": true
   },
   "outputs": [
    {
     "name": "stdout",
     "output_type": "stream",
     "text": [
      "R²                                      0.87\n",
      "Mean Absolute Error                     0.17\n",
      "Mean Square Error                       0.1\n",
      "Root Mean Square Error                  0.32\n"
     ]
    }
   ],
   "source": [
    "feat_selec_score(RFECV_ridge)"
   ]
  },
  {
   "cell_type": "markdown",
   "id": "1ac1396b",
   "metadata": {},
   "source": [
    "RFECV a un intérêt faible pour l'algorithme Rigde pour les prédictions de TotalGHGEmissions"
   ]
  },
  {
   "cell_type": "code",
   "execution_count": null,
   "id": "a4a96a7d",
   "metadata": {},
   "outputs": [],
   "source": []
  },
  {
   "cell_type": "markdown",
   "id": "99301713",
   "metadata": {},
   "source": [
    "# Optimisation des hyperparamètres"
   ]
  },
  {
   "cell_type": "code",
   "execution_count": 61,
   "id": "c52eb779",
   "metadata": {},
   "outputs": [
    {
     "name": "stdout",
     "output_type": "stream",
     "text": [
      "Best parameters on training set :\n",
      "{'alpha': 46.41588833612782, 'solver': 'lsqr'}\n",
      "Best R² score on training set : 0.818\n"
     ]
    }
   ],
   "source": [
    "# Parameters optimization\n",
    "n_alphas = 10\n",
    "alphas = np.logspace(-5, 5, n_alphas)\n",
    "solver = [\"svd\", \"cholesky\", \"lsqr\", \"sparse_cg\", \"sag\", \"saga\", \"lbfgs\"]\n",
    "param_grid = {'alpha': alphas,\n",
    "             \"solver\": solver}\n",
    "\n",
    "\n",
    "score = 'r2'\n",
    "\n",
    "# Grid search\n",
    "optimized_ridge = model_selection.GridSearchCV(\n",
    "    Ridge(),\n",
    "    param_grid,\n",
    "    cv=5,\n",
    "    scoring=score\n",
    ")\n",
    "\n",
    "optimized_ridge.fit(X_train, y_train)\n",
    "\n",
    "# Display best parameters and score\n",
    "print(\"Best parameters on training set :\")\n",
    "print(optimized_ridge.best_params_)\n",
    "print(\"Best R² score on training set : {:.3f}\".format(optimized_ridge.best_score_))"
   ]
  },
  {
   "cell_type": "code",
   "execution_count": 62,
   "id": "00ade615",
   "metadata": {},
   "outputs": [],
   "source": [
    "Ridge_optim = Ridge()"
   ]
  },
  {
   "cell_type": "code",
   "execution_count": 63,
   "id": "24e6288d",
   "metadata": {
    "scrolled": true
   },
   "outputs": [
    {
     "data": {
      "text/plain": [
       "Ridge(alpha=46.41588833612782, solver='lsqr')"
      ]
     },
     "execution_count": 63,
     "metadata": {},
     "output_type": "execute_result"
    }
   ],
   "source": [
    "Ridge_optim.set_params(**optimized_ridge.best_params_)"
   ]
  },
  {
   "cell_type": "code",
   "execution_count": 64,
   "id": "aaeb7973",
   "metadata": {
    "scrolled": true
   },
   "outputs": [],
   "source": [
    "Ridge_optim = Ridge_optim.set_params(**optimized_ridge.best_params_)"
   ]
  },
  {
   "cell_type": "code",
   "execution_count": 65,
   "id": "ce627b2c",
   "metadata": {
    "scrolled": false
   },
   "outputs": [
    {
     "name": "stdout",
     "output_type": "stream",
     "text": [
      "###########################################################################\n",
      "                    Ridge(alpha=46.41588833612782, solver='lsqr')\n",
      "model score:  0.8738982673239252\n",
      "Time processing : 0.03s\n",
      "R²                                      0.87\n",
      "Mean Absolute Error                     0.16\n",
      "Mean Square Error                       0.1\n",
      "Root Mean Square Error                  0.31\n",
      "###########################################################################\n"
     ]
    }
   ],
   "source": [
    "optim(Ridge_optim)"
   ]
  },
  {
   "cell_type": "markdown",
   "id": "fb73aef9",
   "metadata": {},
   "source": [
    "# Visualisation des features importances au travers de Shap"
   ]
  },
  {
   "cell_type": "code",
   "execution_count": 66,
   "id": "5fc1d63f",
   "metadata": {},
   "outputs": [
    {
     "data": {
      "text/plain": [
       "Ridge()"
      ]
     },
     "execution_count": 66,
     "metadata": {},
     "output_type": "execute_result"
    }
   ],
   "source": [
    "model = Ridge()\n",
    "model.fit(X_train, y_train)"
   ]
  },
  {
   "cell_type": "code",
   "execution_count": 67,
   "id": "31d0d9cd",
   "metadata": {},
   "outputs": [],
   "source": [
    "explainer = shap.LinearExplainer(model, X_train, feature_dependence=\"independent\")"
   ]
  },
  {
   "cell_type": "code",
   "execution_count": 68,
   "id": "5df55494",
   "metadata": {},
   "outputs": [],
   "source": [
    "shap_values = explainer.shap_values(X_test)"
   ]
  },
  {
   "cell_type": "code",
   "execution_count": 69,
   "id": "e6707c71",
   "metadata": {},
   "outputs": [],
   "source": [
    "X_test_array = np.array(X_test)"
   ]
  },
  {
   "cell_type": "code",
   "execution_count": 70,
   "id": "b8d9c03f",
   "metadata": {},
   "outputs": [
    {
     "data": {
      "image/png": "[encoded data removed]",
      "text/plain": [
       "<Figure size 576x684 with 2 Axes>"
      ]
     },
     "metadata": {
      "needs_background": "light"
     },
     "output_type": "display_data"
    }
   ],
   "source": [
    "shap.summary_plot(shap_values, X_test_array, feature_names=data.columns)"
   ]
  },
  {
   "cell_type": "code",
   "execution_count": 71,
   "id": "c080a56f",
   "metadata": {},
   "outputs": [],
   "source": [
    "explainer = shap.Explainer(model, X)\n",
    "shap_values = explainer(X)"
   ]
  },
  {
   "cell_type": "code",
   "execution_count": 72,
   "id": "24f9d70c",
   "metadata": {},
   "outputs": [],
   "source": [
    "shap_values = explainer(X)"
   ]
  },
  {
   "cell_type": "markdown",
   "id": "b8e7a80b",
   "metadata": {},
   "source": [
    "shap.plots.bar(shap_values)"
   ]
  },
  {
   "cell_type": "code",
   "execution_count": 73,
   "id": "19db0bb8",
   "metadata": {
    "scrolled": true
   },
   "outputs": [
    {
     "data": {
      "image/png": "[encoded data removed]",
      "text/plain": [
       "<Figure size 576x468 with 1 Axes>"
      ]
     },
     "metadata": {},
     "output_type": "display_data"
    }
   ],
   "source": [
    "shap.plots.bar(shap_values, max_display=10)"
   ]
  },
  {
   "cell_type": "code",
   "execution_count": null,
   "id": "955b8f36",
   "metadata": {},
   "outputs": [],
   "source": []
  },
  {
   "cell_type": "markdown",
   "id": "bd395bd7",
   "metadata": {},
   "source": [
    "# Rechargement du dataset pour récupérer EnergyStarScore "
   ]
  },
  {
   "cell_type": "markdown",
   "id": "673a1bb8",
   "metadata": {},
   "source": [
    "Prédiction pour SiteEnergyUse(kBtu) avec EnergyStarScore "
   ]
  },
  {
   "cell_type": "code",
   "execution_count": 74,
   "id": "650a7cab",
   "metadata": {},
   "outputs": [],
   "source": [
    "df_energy = pd.read_csv('/Users/gauthierrault/Desktop/Projet_4/df_energy.csv')"
   ]
  },
  {
   "cell_type": "code",
   "execution_count": 75,
   "id": "0aa63653",
   "metadata": {},
   "outputs": [],
   "source": [
    "df_energy.drop(['Unnamed: 0'], axis=1, inplace=True)"
   ]
  },
  {
   "cell_type": "code",
   "execution_count": 76,
   "id": "6a80be00",
   "metadata": {},
   "outputs": [],
   "source": [
    "df_energy = df_energy.dropna()"
   ]
  },
  {
   "cell_type": "code",
   "execution_count": 77,
   "id": "868efceb",
   "metadata": {},
   "outputs": [],
   "source": [
    "df_energy = df_energy.reset_index(drop=True)"
   ]
  },
  {
   "cell_type": "code",
   "execution_count": 78,
   "id": "5977930b",
   "metadata": {},
   "outputs": [],
   "source": [
    "X = df_energy.drop(['SiteEnergyUse(kBtu)'],axis=1) #TotalGHGEmissions\n",
    "y = df_energy['SiteEnergyUse(kBtu)']"
   ]
  },
  {
   "cell_type": "code",
   "execution_count": 79,
   "id": "00ffe22a",
   "metadata": {},
   "outputs": [
    {
     "name": "stdout",
     "output_type": "stream",
     "text": [
      "train set:  (1708, 585) (1708,)\n",
      "test set:  (428, 585) (428,)\n"
     ]
    }
   ],
   "source": [
    "X_train, X_test, y_train, y_test = train_test_split(X, y,test_size=0.2,random_state=0)\n",
    "\n",
    "print('train set: ',X_train.shape, y_train.shape)\n",
    "print('test set: ', X_test.shape, y_test.shape)"
   ]
  },
  {
   "cell_type": "code",
   "execution_count": 80,
   "id": "998426cf",
   "metadata": {},
   "outputs": [
    {
     "name": "stdout",
     "output_type": "stream",
     "text": [
      "###########################################################################\n",
      "                    DummyRegressor()\n",
      "model score:  -0.00041762625877383996\n",
      "Time processing : 0.00s\n",
      "R²                                      -0.0\n",
      "Mean Absolute Error                     0.57\n",
      "Mean Square Error                       0.8\n",
      "Root Mean Square Error                  0.89\n",
      "###########################################################################\n",
      "###########################################################################\n",
      "                    Lasso()\n",
      "model score:  -0.00041762625877383996\n",
      "Time processing : 0.01s\n",
      "R²                                      -0.0\n",
      "Mean Absolute Error                     0.57\n",
      "Mean Square Error                       0.8\n",
      "Root Mean Square Error                  0.89\n",
      "###########################################################################\n",
      "###########################################################################\n",
      "                    Ridge()\n",
      "model score:  0.9153472512321479\n",
      "Time processing : 0.03s\n",
      "R²                                      0.92\n",
      "Mean Absolute Error                     0.13\n",
      "Mean Square Error                       0.07\n",
      "Root Mean Square Error                  0.26\n",
      "###########################################################################\n",
      "###########################################################################\n",
      "                    ElasticNet()\n",
      "model score:  0.4098078662525704\n",
      "Time processing : 0.01s\n",
      "R²                                      0.41\n",
      "Mean Absolute Error                     0.43\n",
      "Mean Square Error                       0.47\n",
      "Root Mean Square Error                  0.69\n",
      "###########################################################################\n",
      "###########################################################################\n",
      "                    KernelRidge()\n",
      "model score:  0.9175058872656193\n",
      "Time processing : 0.10s\n",
      "R²                                      0.92\n",
      "Mean Absolute Error                     0.13\n",
      "Mean Square Error                       0.07\n",
      "Root Mean Square Error                  0.26\n",
      "###########################################################################\n",
      "###########################################################################\n",
      "                    SVR()\n",
      "model score:  0.6451303455446635\n",
      "Time processing : 0.31s\n",
      "R²                                      0.65\n",
      "Mean Absolute Error                     0.21\n",
      "Mean Square Error                       0.28\n",
      "Root Mean Square Error                  0.53\n",
      "###########################################################################\n"
     ]
    }
   ],
   "source": [
    "initialisation_ener_ess(DummyRegressor())\n",
    "initialisation_ener_ess(linear_model.Lasso())\n",
    "initialisation_ener_ess(Ridge())\n",
    "initialisation_ener_ess(ElasticNet())\n",
    "initialisation_ener_ess(KernelRidge())\n",
    "initialisation_ener_ess(SVR())"
   ]
  },
  {
   "cell_type": "code",
   "execution_count": 81,
   "id": "168d1c10",
   "metadata": {
    "scrolled": false
   },
   "outputs": [
    {
     "data": {
      "text/html": [
       "<div>\n",
       "<style scoped>\n",
       "    .dataframe tbody tr th:only-of-type {\n",
       "        vertical-align: middle;\n",
       "    }\n",
       "\n",
       "    .dataframe tbody tr th {\n",
       "        vertical-align: top;\n",
       "    }\n",
       "\n",
       "    .dataframe thead th {\n",
       "        text-align: right;\n",
       "    }\n",
       "</style>\n",
       "<table border=\"1\" class=\"dataframe\">\n",
       "  <thead>\n",
       "    <tr style=\"text-align: right;\">\n",
       "      <th></th>\n",
       "      <th>R2</th>\n",
       "      <th>RMSE</th>\n",
       "      <th>MSE</th>\n",
       "      <th>MAE</th>\n",
       "      <th>times</th>\n",
       "    </tr>\n",
       "  </thead>\n",
       "  <tbody>\n",
       "    <tr>\n",
       "      <th>Ridge()</th>\n",
       "      <td>0.92</td>\n",
       "      <td>0.26</td>\n",
       "      <td>0.07</td>\n",
       "      <td>0.13</td>\n",
       "      <td>0.025871</td>\n",
       "    </tr>\n",
       "    <tr>\n",
       "      <th>KernelRidge()</th>\n",
       "      <td>0.92</td>\n",
       "      <td>0.26</td>\n",
       "      <td>0.07</td>\n",
       "      <td>0.13</td>\n",
       "      <td>0.103159</td>\n",
       "    </tr>\n",
       "    <tr>\n",
       "      <th>SVR()</th>\n",
       "      <td>0.65</td>\n",
       "      <td>0.53</td>\n",
       "      <td>0.28</td>\n",
       "      <td>0.21</td>\n",
       "      <td>0.308801</td>\n",
       "    </tr>\n",
       "    <tr>\n",
       "      <th>ElasticNet()</th>\n",
       "      <td>0.41</td>\n",
       "      <td>0.69</td>\n",
       "      <td>0.47</td>\n",
       "      <td>0.43</td>\n",
       "      <td>0.014437</td>\n",
       "    </tr>\n",
       "    <tr>\n",
       "      <th>DummyRegressor()</th>\n",
       "      <td>-0.00</td>\n",
       "      <td>0.89</td>\n",
       "      <td>0.80</td>\n",
       "      <td>0.57</td>\n",
       "      <td>0.000444</td>\n",
       "    </tr>\n",
       "    <tr>\n",
       "      <th>Lasso()</th>\n",
       "      <td>-0.00</td>\n",
       "      <td>0.89</td>\n",
       "      <td>0.80</td>\n",
       "      <td>0.57</td>\n",
       "      <td>0.011341</td>\n",
       "    </tr>\n",
       "  </tbody>\n",
       "</table>\n",
       "</div>"
      ],
      "text/plain": [
       "                    R2  RMSE   MSE   MAE     times\n",
       "Ridge()           0.92  0.26  0.07  0.13  0.025871\n",
       "KernelRidge()     0.92  0.26  0.07  0.13  0.103159\n",
       "SVR()             0.65  0.53  0.28  0.21  0.308801\n",
       "ElasticNet()      0.41  0.69  0.47  0.43  0.014437\n",
       "DummyRegressor() -0.00  0.89  0.80  0.57  0.000444\n",
       "Lasso()          -0.00  0.89  0.80  0.57  0.011341"
      ]
     },
     "execution_count": 81,
     "metadata": {},
     "output_type": "execute_result"
    }
   ],
   "source": [
    "#frames = [scores_algo_optim, times_algo_optim]\n",
    "\n",
    "result_ener_ess = pd.concat([scores_algo_ener_ess, times_algo_ener_ess])\n",
    "result_ener_ess.T.sort_values(by=\"R2\",ascending=False)"
   ]
  },
  {
   "cell_type": "code",
   "execution_count": null,
   "id": "2f15b665",
   "metadata": {},
   "outputs": [],
   "source": []
  },
  {
   "cell_type": "code",
   "execution_count": 82,
   "id": "7712481b",
   "metadata": {},
   "outputs": [
    {
     "data": {
      "text/plain": [
       "RFECV(cv=5, estimator=Ridge(random_state=0), min_features_to_select=2,\n",
       "      scoring='r2')"
      ]
     },
     "execution_count": 82,
     "metadata": {},
     "output_type": "execute_result"
    }
   ],
   "source": [
    "RFECV_ridge = RFECV(Ridge(random_state=0), scoring='r2', step=1, min_features_to_select=2, cv=5)\n",
    "RFECV_ridge.fit(X_train, y_train)"
   ]
  },
  {
   "cell_type": "code",
   "execution_count": 83,
   "id": "69f78b19",
   "metadata": {
    "scrolled": true
   },
   "outputs": [
    {
     "name": "stdout",
     "output_type": "stream",
     "text": [
      "R²                                      0.92\n",
      "Mean Absolute Error                     0.13\n",
      "Mean Square Error                       0.06\n",
      "Root Mean Square Error                  0.25\n"
     ]
    }
   ],
   "source": [
    "feat_selec_score(RFECV_ridge)"
   ]
  },
  {
   "cell_type": "code",
   "execution_count": null,
   "id": "22e48bb7",
   "metadata": {},
   "outputs": [],
   "source": []
  },
  {
   "cell_type": "markdown",
   "id": "f605ca1c",
   "metadata": {},
   "source": [
    "Feature importance globale avec Ridge"
   ]
  },
  {
   "cell_type": "code",
   "execution_count": 89,
   "id": "ed780c25",
   "metadata": {},
   "outputs": [],
   "source": [
    "n_alphas = 200\n",
    "alphas = np.logspace(-10, -2, n_alphas)\n",
    "\n",
    "coefs = []\n",
    "for a in alphas:\n",
    "    ridge = linear_model.Ridge(alpha=a, fit_intercept=False)\n",
    "    ridge.fit(X, y)\n",
    "    coefs.append(ridge.coef_)"
   ]
  },
  {
   "cell_type": "code",
   "execution_count": 90,
   "id": "78cca1fe",
   "metadata": {
    "scrolled": false
   },
   "outputs": [
    {
     "data": {
      "image/png": "[encoded data removed]",
      "text/plain": [
       "<Figure size 432x288 with 1 Axes>"
      ]
     },
     "metadata": {
      "needs_background": "light"
     },
     "output_type": "display_data"
    }
   ],
   "source": [
    "ax = plt.gca()\n",
    "\n",
    "ax.plot(alphas, coefs)\n",
    "ax.set_xscale(\"log\")\n",
    "ax.set_xlim(ax.get_xlim()[::-1])  # reverse axis\n",
    "plt.xlabel(\"alpha\")\n",
    "plt.ylabel(\"weights\")\n",
    "plt.title(\"Ridge coefficients as a function of the regularization\")\n",
    "plt.axis(\"tight\")\n",
    "plt.show()"
   ]
  },
  {
   "cell_type": "markdown",
   "id": "8577faba",
   "metadata": {},
   "source": [
    "# Feature importance avec SHAP"
   ]
  },
  {
   "cell_type": "code",
   "execution_count": 91,
   "id": "c6c47079",
   "metadata": {},
   "outputs": [
    {
     "data": {
      "text/plain": [
       "Ridge()"
      ]
     },
     "execution_count": 91,
     "metadata": {},
     "output_type": "execute_result"
    }
   ],
   "source": [
    "model = Ridge()\n",
    "model.fit(X_train, y_train)"
   ]
  },
  {
   "cell_type": "code",
   "execution_count": 92,
   "id": "6fa4a064",
   "metadata": {},
   "outputs": [],
   "source": [
    "explainer = shap.LinearExplainer(model, X_train, feature_dependence=\"independent\")"
   ]
  },
  {
   "cell_type": "code",
   "execution_count": 93,
   "id": "175857e1",
   "metadata": {},
   "outputs": [],
   "source": [
    "shap_values = explainer.shap_values(X_test)"
   ]
  },
  {
   "cell_type": "code",
   "execution_count": 94,
   "id": "9a63520e",
   "metadata": {},
   "outputs": [],
   "source": [
    "X_test_array = np.array(X_test)"
   ]
  },
  {
   "cell_type": "code",
   "execution_count": 95,
   "id": "5ac9186f",
   "metadata": {},
   "outputs": [
    {
     "data": {
      "image/png": "[encoded data removed]",
      "text/plain": [
       "<Figure size 576x684 with 2 Axes>"
      ]
     },
     "metadata": {
      "needs_background": "light"
     },
     "output_type": "display_data"
    }
   ],
   "source": [
    "shap.summary_plot(shap_values, X_test_array, feature_names=data.columns)"
   ]
  },
  {
   "cell_type": "code",
   "execution_count": 96,
   "id": "77b96009",
   "metadata": {},
   "outputs": [],
   "source": [
    "explainer = shap.Explainer(model, X)\n",
    "shap_values = explainer(X)"
   ]
  },
  {
   "cell_type": "code",
   "execution_count": 97,
   "id": "d40cac13",
   "metadata": {},
   "outputs": [],
   "source": [
    "shap_values = explainer(X)"
   ]
  },
  {
   "cell_type": "markdown",
   "id": "9ed13509",
   "metadata": {},
   "source": [
    "shap.plots.bar(shap_values)"
   ]
  },
  {
   "cell_type": "code",
   "execution_count": 98,
   "id": "29f5c35a",
   "metadata": {
    "scrolled": false
   },
   "outputs": [
    {
     "data": {
      "image/png": "[encoded data removed]",
      "text/plain": [
       "<Figure size 576x468 with 1 Axes>"
      ]
     },
     "metadata": {},
     "output_type": "display_data"
    }
   ],
   "source": [
    "shap.plots.bar(shap_values, max_display=10)"
   ]
  },
  {
   "cell_type": "code",
   "execution_count": null,
   "id": "89207638",
   "metadata": {},
   "outputs": [],
   "source": []
  },
  {
   "cell_type": "code",
   "execution_count": null,
   "id": "0c6d22d6",
   "metadata": {},
   "outputs": [],
   "source": []
  },
  {
   "cell_type": "code",
   "execution_count": null,
   "id": "07a8b595",
   "metadata": {},
   "outputs": [],
   "source": []
  },
  {
   "cell_type": "code",
   "execution_count": 99,
   "id": "1ce68dfb",
   "metadata": {},
   "outputs": [
    {
     "name": "stdout",
     "output_type": "stream",
     "text": [
      "Best parameters on training set :\n",
      "{'alpha': 3.593813663804626, 'solver': 'sag'}\n",
      "Best R² score on training set : 0.923\n"
     ]
    }
   ],
   "source": [
    "# Parameters optimization\n",
    "n_alphas = 10\n",
    "alphas = np.logspace(-5, 5, n_alphas)\n",
    "solver = [\"svd\", \"cholesky\", \"lsqr\", \"sparse_cg\", \"sag\", \"saga\", \"lbfgs\"]\n",
    "param_grid = {'alpha': alphas,\n",
    "             \"solver\": solver}\n",
    "\n",
    "\n",
    "score = 'r2'\n",
    "\n",
    "# Grid search\n",
    "optimized_ridge = model_selection.GridSearchCV(\n",
    "    Ridge(),\n",
    "    param_grid,\n",
    "    cv=5,\n",
    "    scoring=score\n",
    ")\n",
    "\n",
    "optimized_ridge.fit(X_train, y_train)\n",
    "\n",
    "# Display best parameters and score\n",
    "print(\"Best parameters on training set :\")\n",
    "print(optimized_ridge.best_params_)\n",
    "print(\"Best R² score on training set : {:.3f}\".format(optimized_ridge.best_score_))"
   ]
  },
  {
   "cell_type": "code",
   "execution_count": 100,
   "id": "35f29f2c",
   "metadata": {},
   "outputs": [],
   "source": [
    "Ridge_optim = Ridge()"
   ]
  },
  {
   "cell_type": "code",
   "execution_count": 101,
   "id": "7baea9c9",
   "metadata": {
    "scrolled": true
   },
   "outputs": [
    {
     "data": {
      "text/plain": [
       "Ridge(alpha=3.593813663804626, solver='sag')"
      ]
     },
     "execution_count": 101,
     "metadata": {},
     "output_type": "execute_result"
    }
   ],
   "source": [
    "Ridge_optim.set_params(**optimized_ridge.best_params_)"
   ]
  },
  {
   "cell_type": "code",
   "execution_count": 102,
   "id": "d4ec8b33",
   "metadata": {
    "scrolled": true
   },
   "outputs": [],
   "source": [
    "Ridge_optim = Ridge_optim.set_params(**optimized_ridge.best_params_)"
   ]
  },
  {
   "cell_type": "code",
   "execution_count": 103,
   "id": "2dcb5519",
   "metadata": {
    "scrolled": false
   },
   "outputs": [
    {
     "name": "stdout",
     "output_type": "stream",
     "text": [
      "###########################################################################\n",
      "                    Ridge(alpha=3.593813663804626, solver='sag')\n",
      "model score:  0.9268212052419802\n",
      "Time processing : 0.41s\n",
      "R²                                      0.93\n",
      "Mean Absolute Error                     0.13\n",
      "Mean Square Error                       0.06\n",
      "Root Mean Square Error                  0.24\n",
      "###########################################################################\n"
     ]
    }
   ],
   "source": [
    "optim(Ridge_optim)"
   ]
  },
  {
   "cell_type": "code",
   "execution_count": null,
   "id": "e29c27f1",
   "metadata": {},
   "outputs": [],
   "source": []
  },
  {
   "cell_type": "code",
   "execution_count": null,
   "id": "5290b738",
   "metadata": {},
   "outputs": [],
   "source": []
  },
  {
   "cell_type": "code",
   "execution_count": null,
   "id": "0fc7944c",
   "metadata": {},
   "outputs": [],
   "source": []
  },
  {
   "cell_type": "code",
   "execution_count": 104,
   "id": "831db787",
   "metadata": {},
   "outputs": [
    {
     "name": "stdout",
     "output_type": "stream",
     "text": [
      "Best parameters on training set :\n",
      "{'alpha': 46.41588833612782, 'gamma': 0.01, 'kernel': 'linear'}\n",
      "Best R² score on training set : 0.921\n"
     ]
    }
   ],
   "source": [
    "# Parameters optimization\n",
    "#kernels = ['additive_chi2', 'chi2', 'linear', 'polynomial', 'poly', 'rbf', 'laplacian', 'sigmoid', 'cosine']\n",
    "n_alphas = 10\n",
    "alphas = np.logspace(-5, 5, n_alphas)\n",
    "\n",
    "n_gammas = 10\n",
    "gammas = np.logspace(-2, 1, n_gammas)\n",
    "\n",
    "kernels = ['linear', 'rbf' ]\n",
    "\n",
    "param_grid = {'alpha': alphas, \n",
    "              'gamma': gammas,\n",
    "              'kernel' : kernels}\n",
    "\n",
    "score = 'r2'\n",
    "\n",
    "# Grid search\n",
    "optimized_k_ridge = model_selection.GridSearchCV(\n",
    "    KernelRidge(),\n",
    "    param_grid,\n",
    "    cv=5,\n",
    "    scoring=score\n",
    ")\n",
    "\n",
    "optimized_k_ridge.fit(X_train, y_train)\n",
    "\n",
    "# Display best parameters and score\n",
    "print(\"Best parameters on training set :\")\n",
    "print(optimized_k_ridge.best_params_)\n",
    "print(\"Best R² score on training set : {:.3f}\".format(optimized_k_ridge.best_score_))"
   ]
  },
  {
   "cell_type": "code",
   "execution_count": 105,
   "id": "b23881b5",
   "metadata": {},
   "outputs": [],
   "source": [
    "KRidge_optim = KernelRidge()"
   ]
  },
  {
   "cell_type": "code",
   "execution_count": 106,
   "id": "ac3045bc",
   "metadata": {
    "scrolled": true
   },
   "outputs": [
    {
     "data": {
      "text/plain": [
       "KernelRidge(alpha=46.41588833612782, gamma=0.01)"
      ]
     },
     "execution_count": 106,
     "metadata": {},
     "output_type": "execute_result"
    }
   ],
   "source": [
    "KRidge_optim.set_params(**optimized_k_ridge.best_params_)"
   ]
  },
  {
   "cell_type": "code",
   "execution_count": 107,
   "id": "a0ce8ad6",
   "metadata": {
    "scrolled": true
   },
   "outputs": [],
   "source": [
    "KRidge_optim = KRidge_optim.set_params(**optimized_k_ridge.best_params_)"
   ]
  },
  {
   "cell_type": "code",
   "execution_count": 108,
   "id": "a80c9e1a",
   "metadata": {},
   "outputs": [
    {
     "name": "stdout",
     "output_type": "stream",
     "text": [
      "###########################################################################\n",
      "                    KernelRidge(alpha=46.41588833612782, gamma=0.01)\n",
      "model score:  0.9246559733729378\n",
      "Time processing : 0.12s\n",
      "R²                                      0.92\n",
      "Mean Absolute Error                     0.13\n",
      "Mean Square Error                       0.06\n",
      "Root Mean Square Error                  0.25\n",
      "###########################################################################\n"
     ]
    }
   ],
   "source": [
    "optim(KRidge_optim)"
   ]
  },
  {
   "cell_type": "code",
   "execution_count": null,
   "id": "a846faca",
   "metadata": {},
   "outputs": [],
   "source": []
  },
  {
   "cell_type": "code",
   "execution_count": 109,
   "id": "8894c5dd",
   "metadata": {
    "scrolled": false
   },
   "outputs": [
    {
     "data": {
      "text/html": [
       "<div>\n",
       "<style scoped>\n",
       "    .dataframe tbody tr th:only-of-type {\n",
       "        vertical-align: middle;\n",
       "    }\n",
       "\n",
       "    .dataframe tbody tr th {\n",
       "        vertical-align: top;\n",
       "    }\n",
       "\n",
       "    .dataframe thead th {\n",
       "        text-align: right;\n",
       "    }\n",
       "</style>\n",
       "<table border=\"1\" class=\"dataframe\">\n",
       "  <thead>\n",
       "    <tr style=\"text-align: right;\">\n",
       "      <th></th>\n",
       "      <th>R2</th>\n",
       "      <th>RMSE</th>\n",
       "      <th>MSE</th>\n",
       "      <th>MAE</th>\n",
       "      <th>times</th>\n",
       "    </tr>\n",
       "  </thead>\n",
       "  <tbody>\n",
       "    <tr>\n",
       "      <th>Ridge(alpha=46.41588833612782, solver='sparse_cg')</th>\n",
       "      <td>0.93</td>\n",
       "      <td>0.24</td>\n",
       "      <td>0.06</td>\n",
       "      <td>0.13</td>\n",
       "      <td>0.036042</td>\n",
       "    </tr>\n",
       "    <tr>\n",
       "      <th>KernelRidge(alpha=46.41588833612782, gamma=0.01)</th>\n",
       "      <td>0.93</td>\n",
       "      <td>0.24</td>\n",
       "      <td>0.06</td>\n",
       "      <td>0.13</td>\n",
       "      <td>0.237860</td>\n",
       "    </tr>\n",
       "    <tr>\n",
       "      <th>Ridge(alpha=1e-05, solver='sag')</th>\n",
       "      <td>0.93</td>\n",
       "      <td>0.24</td>\n",
       "      <td>0.06</td>\n",
       "      <td>0.13</td>\n",
       "      <td>0.410897</td>\n",
       "    </tr>\n",
       "    <tr>\n",
       "      <th>Ridge(alpha=3.593813663804626, solver='sag')</th>\n",
       "      <td>0.93</td>\n",
       "      <td>0.24</td>\n",
       "      <td>0.06</td>\n",
       "      <td>0.13</td>\n",
       "      <td>0.412446</td>\n",
       "    </tr>\n",
       "    <tr>\n",
       "      <th>KernelRidge(alpha=46.41588833612782, gamma=0.01)</th>\n",
       "      <td>0.92</td>\n",
       "      <td>0.25</td>\n",
       "      <td>0.06</td>\n",
       "      <td>0.13</td>\n",
       "      <td>0.116657</td>\n",
       "    </tr>\n",
       "    <tr>\n",
       "      <th>Ridge(alpha=46.41588833612782, solver='lsqr')</th>\n",
       "      <td>0.87</td>\n",
       "      <td>0.31</td>\n",
       "      <td>0.10</td>\n",
       "      <td>0.16</td>\n",
       "      <td>0.031403</td>\n",
       "    </tr>\n",
       "  </tbody>\n",
       "</table>\n",
       "</div>"
      ],
      "text/plain": [
       "                                                      R2  RMSE   MSE   MAE  \\\n",
       "Ridge(alpha=46.41588833612782, solver='sparse_cg')  0.93  0.24  0.06  0.13   \n",
       "KernelRidge(alpha=46.41588833612782, gamma=0.01)    0.93  0.24  0.06  0.13   \n",
       "Ridge(alpha=1e-05, solver='sag')                    0.93  0.24  0.06  0.13   \n",
       "Ridge(alpha=3.593813663804626, solver='sag')        0.93  0.24  0.06  0.13   \n",
       "KernelRidge(alpha=46.41588833612782, gamma=0.01)    0.92  0.25  0.06  0.13   \n",
       "Ridge(alpha=46.41588833612782, solver='lsqr')       0.87  0.31  0.10  0.16   \n",
       "\n",
       "                                                       times  \n",
       "Ridge(alpha=46.41588833612782, solver='sparse_cg')  0.036042  \n",
       "KernelRidge(alpha=46.41588833612782, gamma=0.01)    0.237860  \n",
       "Ridge(alpha=1e-05, solver='sag')                    0.410897  \n",
       "Ridge(alpha=3.593813663804626, solver='sag')        0.412446  \n",
       "KernelRidge(alpha=46.41588833612782, gamma=0.01)    0.116657  \n",
       "Ridge(alpha=46.41588833612782, solver='lsqr')       0.031403  "
      ]
     },
     "execution_count": 109,
     "metadata": {},
     "output_type": "execute_result"
    }
   ],
   "source": [
    "result_optim = pd.concat([scores_algo_optim, times_algo_optim])\n",
    "result_optim.T.sort_values(by=\"R2\",ascending=False)"
   ]
  },
  {
   "cell_type": "code",
   "execution_count": null,
   "id": "f9d495a3",
   "metadata": {},
   "outputs": [],
   "source": []
  },
  {
   "cell_type": "code",
   "execution_count": null,
   "id": "ceff234d",
   "metadata": {},
   "outputs": [],
   "source": []
  },
  {
   "cell_type": "code",
   "execution_count": null,
   "id": "760c151f",
   "metadata": {},
   "outputs": [],
   "source": []
  },
  {
   "cell_type": "markdown",
   "id": "552a9ba1",
   "metadata": {},
   "source": [
    "# Prédiction pour TotalGHGEmissions avec EnergyStarScore "
   ]
  },
  {
   "cell_type": "code",
   "execution_count": 110,
   "id": "11694724",
   "metadata": {},
   "outputs": [],
   "source": [
    "df_energy = pd.read_csv('/Users/gauthierrault/Desktop/Projet_4/df_energy.csv')"
   ]
  },
  {
   "cell_type": "code",
   "execution_count": 111,
   "id": "d0771007",
   "metadata": {},
   "outputs": [],
   "source": [
    "df_energy.drop(['Unnamed: 0'], axis=1, inplace=True)"
   ]
  },
  {
   "cell_type": "code",
   "execution_count": 112,
   "id": "06c4a3ae",
   "metadata": {},
   "outputs": [],
   "source": [
    "df_energy = df_energy.dropna()"
   ]
  },
  {
   "cell_type": "code",
   "execution_count": 113,
   "id": "b4ebfee1",
   "metadata": {},
   "outputs": [],
   "source": [
    "df_energy = df_energy.reset_index(drop=True)"
   ]
  },
  {
   "cell_type": "code",
   "execution_count": 114,
   "id": "2d577553",
   "metadata": {},
   "outputs": [],
   "source": [
    "X = df_energy.drop(['TotalGHGEmissions'],axis=1) #TotalGHGEmissions\n",
    "y = df_energy['TotalGHGEmissions']"
   ]
  },
  {
   "cell_type": "code",
   "execution_count": 115,
   "id": "437648d7",
   "metadata": {},
   "outputs": [
    {
     "name": "stdout",
     "output_type": "stream",
     "text": [
      "train set:  (1708, 585) (1708,)\n",
      "test set:  (428, 585) (428,)\n"
     ]
    }
   ],
   "source": [
    "X_train, X_test, y_train, y_test = train_test_split(X, y,test_size=0.2,random_state=0)\n",
    "\n",
    "print('train set: ',X_train.shape, y_train.shape)\n",
    "print('test set: ', X_test.shape, y_test.shape)"
   ]
  },
  {
   "cell_type": "code",
   "execution_count": 116,
   "id": "07aa2bc2",
   "metadata": {},
   "outputs": [
    {
     "name": "stdout",
     "output_type": "stream",
     "text": [
      "###########################################################################\n",
      "                    DummyRegressor()\n",
      "model score:  -9.042176144191671e-05\n",
      "Time processing : 0.00s\n",
      "R²                                      -0.0\n",
      "Mean Absolute Error                     0.48\n",
      "Mean Square Error                       0.65\n",
      "Root Mean Square Error                  0.81\n",
      "###########################################################################\n",
      "###########################################################################\n",
      "                    Lasso()\n",
      "model score:  -9.042176144191671e-05\n",
      "Time processing : 0.01s\n",
      "R²                                      -0.0\n",
      "Mean Absolute Error                     0.48\n",
      "Mean Square Error                       0.65\n",
      "Root Mean Square Error                  0.81\n",
      "###########################################################################\n",
      "###########################################################################\n",
      "                    Ridge()\n",
      "model score:  0.8119861204717915\n",
      "Time processing : 0.02s\n",
      "R²                                      0.81\n",
      "Mean Absolute Error                     0.19\n",
      "Mean Square Error                       0.12\n",
      "Root Mean Square Error                  0.35\n",
      "###########################################################################\n",
      "###########################################################################\n",
      "                    ElasticNet()\n",
      "model score:  0.2531677457418686\n",
      "Time processing : 0.01s\n",
      "R²                                      0.25\n",
      "Mean Absolute Error                     0.4\n",
      "Mean Square Error                       0.49\n",
      "Root Mean Square Error                  0.7\n",
      "###########################################################################\n",
      "###########################################################################\n",
      "                    KernelRidge()\n",
      "model score:  0.8125863601995287\n",
      "Time processing : 0.09s\n",
      "R²                                      0.81\n",
      "Mean Absolute Error                     0.19\n",
      "Mean Square Error                       0.12\n",
      "Root Mean Square Error                  0.35\n",
      "###########################################################################\n",
      "###########################################################################\n",
      "                    SVR()\n",
      "model score:  0.5431849477209825\n",
      "Time processing : 0.36s\n",
      "R²                                      0.54\n",
      "Mean Absolute Error                     0.22\n",
      "Mean Square Error                       0.3\n",
      "Root Mean Square Error                  0.55\n",
      "###########################################################################\n"
     ]
    }
   ],
   "source": [
    "initialisation_co2_ess(DummyRegressor())\n",
    "initialisation_co2_ess(linear_model.Lasso())\n",
    "initialisation_co2_ess(Ridge())\n",
    "initialisation_co2_ess(ElasticNet())\n",
    "initialisation_co2_ess(KernelRidge())\n",
    "initialisation_co2_ess(SVR())"
   ]
  },
  {
   "cell_type": "code",
   "execution_count": 117,
   "id": "b9367c30",
   "metadata": {
    "scrolled": true
   },
   "outputs": [
    {
     "data": {
      "text/html": [
       "<div>\n",
       "<style scoped>\n",
       "    .dataframe tbody tr th:only-of-type {\n",
       "        vertical-align: middle;\n",
       "    }\n",
       "\n",
       "    .dataframe tbody tr th {\n",
       "        vertical-align: top;\n",
       "    }\n",
       "\n",
       "    .dataframe thead th {\n",
       "        text-align: right;\n",
       "    }\n",
       "</style>\n",
       "<table border=\"1\" class=\"dataframe\">\n",
       "  <thead>\n",
       "    <tr style=\"text-align: right;\">\n",
       "      <th></th>\n",
       "      <th>R2</th>\n",
       "      <th>RMSE</th>\n",
       "      <th>MSE</th>\n",
       "      <th>MAE</th>\n",
       "      <th>times</th>\n",
       "    </tr>\n",
       "  </thead>\n",
       "  <tbody>\n",
       "    <tr>\n",
       "      <th>Ridge()</th>\n",
       "      <td>0.81</td>\n",
       "      <td>0.35</td>\n",
       "      <td>0.12</td>\n",
       "      <td>0.19</td>\n",
       "      <td>0.024635</td>\n",
       "    </tr>\n",
       "    <tr>\n",
       "      <th>KernelRidge()</th>\n",
       "      <td>0.81</td>\n",
       "      <td>0.35</td>\n",
       "      <td>0.12</td>\n",
       "      <td>0.19</td>\n",
       "      <td>0.094783</td>\n",
       "    </tr>\n",
       "    <tr>\n",
       "      <th>SVR()</th>\n",
       "      <td>0.54</td>\n",
       "      <td>0.55</td>\n",
       "      <td>0.30</td>\n",
       "      <td>0.22</td>\n",
       "      <td>0.356231</td>\n",
       "    </tr>\n",
       "    <tr>\n",
       "      <th>ElasticNet()</th>\n",
       "      <td>0.25</td>\n",
       "      <td>0.70</td>\n",
       "      <td>0.49</td>\n",
       "      <td>0.40</td>\n",
       "      <td>0.010795</td>\n",
       "    </tr>\n",
       "    <tr>\n",
       "      <th>DummyRegressor()</th>\n",
       "      <td>-0.00</td>\n",
       "      <td>0.81</td>\n",
       "      <td>0.65</td>\n",
       "      <td>0.48</td>\n",
       "      <td>0.000400</td>\n",
       "    </tr>\n",
       "    <tr>\n",
       "      <th>Lasso()</th>\n",
       "      <td>-0.00</td>\n",
       "      <td>0.81</td>\n",
       "      <td>0.65</td>\n",
       "      <td>0.48</td>\n",
       "      <td>0.010781</td>\n",
       "    </tr>\n",
       "  </tbody>\n",
       "</table>\n",
       "</div>"
      ],
      "text/plain": [
       "                    R2  RMSE   MSE   MAE     times\n",
       "Ridge()           0.81  0.35  0.12  0.19  0.024635\n",
       "KernelRidge()     0.81  0.35  0.12  0.19  0.094783\n",
       "SVR()             0.54  0.55  0.30  0.22  0.356231\n",
       "ElasticNet()      0.25  0.70  0.49  0.40  0.010795\n",
       "DummyRegressor() -0.00  0.81  0.65  0.48  0.000400\n",
       "Lasso()          -0.00  0.81  0.65  0.48  0.010781"
      ]
     },
     "execution_count": 117,
     "metadata": {},
     "output_type": "execute_result"
    }
   ],
   "source": [
    "#frames = [scores_algo_optim, times_algo_optim]\n",
    "\n",
    "result_co2_ess = pd.concat([scores_algo_co2_ess, times_algo_co2_ess])\n",
    "result_co2_ess.T.sort_values(by=\"R2\",ascending=False)"
   ]
  },
  {
   "cell_type": "code",
   "execution_count": null,
   "id": "78800bbd",
   "metadata": {},
   "outputs": [],
   "source": []
  },
  {
   "cell_type": "code",
   "execution_count": null,
   "id": "35b9403f",
   "metadata": {},
   "outputs": [],
   "source": []
  },
  {
   "cell_type": "code",
   "execution_count": 118,
   "id": "6d12e534",
   "metadata": {},
   "outputs": [
    {
     "data": {
      "text/plain": [
       "RFECV(cv=5, estimator=Ridge(random_state=0), min_features_to_select=2,\n",
       "      scoring='r2')"
      ]
     },
     "execution_count": 118,
     "metadata": {},
     "output_type": "execute_result"
    }
   ],
   "source": [
    "RFECV_ridge = RFECV(Ridge(random_state=0), scoring='r2', step=1, min_features_to_select=2, cv=5)\n",
    "RFECV_ridge.fit(X_train, y_train)"
   ]
  },
  {
   "cell_type": "code",
   "execution_count": 119,
   "id": "638b2f25",
   "metadata": {
    "scrolled": false
   },
   "outputs": [
    {
     "name": "stdout",
     "output_type": "stream",
     "text": [
      "R²                                      0.82\n",
      "Mean Absolute Error                     0.18\n",
      "Mean Square Error                       0.12\n",
      "Root Mean Square Error                  0.34\n"
     ]
    }
   ],
   "source": [
    "feat_selec_score(RFECV_ridge)"
   ]
  },
  {
   "cell_type": "markdown",
   "id": "33415dd2",
   "metadata": {},
   "source": [
    "RFECV n'a pas d'intérêt à cette étape"
   ]
  },
  {
   "cell_type": "code",
   "execution_count": null,
   "id": "5cf45a0d",
   "metadata": {},
   "outputs": [],
   "source": []
  },
  {
   "cell_type": "markdown",
   "id": "4826c5f5",
   "metadata": {},
   "source": [
    "Feature importance globale avec Ridge"
   ]
  },
  {
   "cell_type": "code",
   "execution_count": 120,
   "id": "28792874",
   "metadata": {},
   "outputs": [],
   "source": [
    "n_alphas = 200\n",
    "alphas = np.logspace(-10, -2, n_alphas)\n",
    "\n",
    "coefs = []\n",
    "for a in alphas:\n",
    "    ridge = linear_model.Ridge(alpha=a, fit_intercept=False)\n",
    "    ridge.fit(X, y)\n",
    "    coefs.append(ridge.coef_)"
   ]
  },
  {
   "cell_type": "code",
   "execution_count": 121,
   "id": "ec5ae664",
   "metadata": {
    "scrolled": false
   },
   "outputs": [
    {
     "data": {
      "image/png": "[encoded data removed]",
      "text/plain": [
       "<Figure size 432x288 with 1 Axes>"
      ]
     },
     "metadata": {
      "needs_background": "light"
     },
     "output_type": "display_data"
    }
   ],
   "source": [
    "ax = plt.gca()\n",
    "\n",
    "ax.plot(alphas, coefs)\n",
    "ax.set_xscale(\"log\")\n",
    "ax.set_xlim(ax.get_xlim()[::-1])  # reverse axis\n",
    "plt.xlabel(\"alpha\")\n",
    "plt.ylabel(\"weights\")\n",
    "plt.title(\"Ridge coefficients as a function of the regularization\")\n",
    "plt.axis(\"tight\")\n",
    "plt.show()"
   ]
  },
  {
   "cell_type": "code",
   "execution_count": null,
   "id": "45e70f32",
   "metadata": {},
   "outputs": [],
   "source": []
  },
  {
   "cell_type": "code",
   "execution_count": 122,
   "id": "4d733916",
   "metadata": {},
   "outputs": [
    {
     "name": "stdout",
     "output_type": "stream",
     "text": [
      "Best parameters on training set :\n",
      "{'alpha': 3.593813663804626, 'solver': 'saga'}\n",
      "Best R² score on training set : 0.785\n"
     ]
    }
   ],
   "source": [
    "# Parameters optimization\n",
    "n_alphas = 10\n",
    "alphas = np.logspace(-5, 5, n_alphas)\n",
    "solver = [\"svd\", \"cholesky\", \"lsqr\", \"sparse_cg\", \"sag\", \"saga\", \"lbfgs\"]\n",
    "param_grid = {'alpha': alphas,\n",
    "             \"solver\": solver}\n",
    "\n",
    "\n",
    "score = 'r2'\n",
    "\n",
    "# Grid search\n",
    "optimized_ridge = model_selection.GridSearchCV(\n",
    "    Ridge(),\n",
    "    param_grid,\n",
    "    cv=5,\n",
    "    scoring=score\n",
    ")\n",
    "\n",
    "optimized_ridge.fit(X_train, y_train)\n",
    "\n",
    "# Display best parameters and score\n",
    "print(\"Best parameters on training set :\")\n",
    "print(optimized_ridge.best_params_)\n",
    "print(\"Best R² score on training set : {:.3f}\".format(optimized_ridge.best_score_))"
   ]
  },
  {
   "cell_type": "code",
   "execution_count": 123,
   "id": "5f23ed48",
   "metadata": {},
   "outputs": [],
   "source": [
    "Ridge_optim = Ridge()"
   ]
  },
  {
   "cell_type": "code",
   "execution_count": 124,
   "id": "85cd0818",
   "metadata": {
    "scrolled": true
   },
   "outputs": [
    {
     "data": {
      "text/plain": [
       "Ridge(alpha=3.593813663804626, solver='saga')"
      ]
     },
     "execution_count": 124,
     "metadata": {},
     "output_type": "execute_result"
    }
   ],
   "source": [
    "Ridge_optim.set_params(**optimized_ridge.best_params_)"
   ]
  },
  {
   "cell_type": "code",
   "execution_count": 125,
   "id": "8bbcd668",
   "metadata": {
    "scrolled": true
   },
   "outputs": [],
   "source": [
    "Ridge_optim = Ridge_optim.set_params(**optimized_ridge.best_params_)"
   ]
  },
  {
   "cell_type": "code",
   "execution_count": 126,
   "id": "88262c6f",
   "metadata": {
    "scrolled": true
   },
   "outputs": [
    {
     "name": "stdout",
     "output_type": "stream",
     "text": [
      "###########################################################################\n",
      "                    Ridge(alpha=3.593813663804626, solver='saga')\n",
      "model score:  0.8595799106449789\n",
      "Time processing : 1.36s\n",
      "R²                                      0.86\n",
      "Mean Absolute Error                     0.17\n",
      "Mean Square Error                       0.09\n",
      "Root Mean Square Error                  0.3\n",
      "###########################################################################\n"
     ]
    }
   ],
   "source": [
    "optim(Ridge_optim)"
   ]
  },
  {
   "cell_type": "code",
   "execution_count": null,
   "id": "a3b54602",
   "metadata": {},
   "outputs": [],
   "source": []
  },
  {
   "cell_type": "code",
   "execution_count": null,
   "id": "a3275e36",
   "metadata": {},
   "outputs": [],
   "source": []
  },
  {
   "cell_type": "code",
   "execution_count": null,
   "id": "7e1ad15a",
   "metadata": {},
   "outputs": [],
   "source": []
  },
  {
   "cell_type": "code",
   "execution_count": 127,
   "id": "c84a48ae",
   "metadata": {},
   "outputs": [
    {
     "name": "stdout",
     "output_type": "stream",
     "text": [
      "Best parameters on training set :\n",
      "{'alpha': 46.41588833612782, 'gamma': 0.01, 'kernel': 'linear'}\n",
      "Best R² score on training set : 0.782\n"
     ]
    }
   ],
   "source": [
    "# Parameters optimization\n",
    "#kernels = ['additive_chi2', 'chi2', 'linear', 'polynomial', 'poly', 'rbf', 'laplacian', 'sigmoid', 'cosine']\n",
    "n_alphas = 10\n",
    "alphas = np.logspace(-5, 5, n_alphas)\n",
    "\n",
    "n_gammas = 10\n",
    "gammas = np.logspace(-2, 1, n_gammas)\n",
    "\n",
    "kernels = ['linear', 'rbf' ]\n",
    "\n",
    "param_grid = {'alpha': alphas, \n",
    "              'gamma': gammas,\n",
    "              'kernel' : kernels}\n",
    "\n",
    "score = 'r2'\n",
    "\n",
    "# Grid search\n",
    "optimized_k_ridge = model_selection.GridSearchCV(\n",
    "    KernelRidge(),\n",
    "    param_grid,\n",
    "    cv=5,\n",
    "    scoring=score\n",
    ")\n",
    "\n",
    "optimized_k_ridge.fit(X_train, y_train)\n",
    "\n",
    "# Display best parameters and score\n",
    "print(\"Best parameters on training set :\")\n",
    "print(optimized_k_ridge.best_params_)\n",
    "print(\"Best R² score on training set : {:.3f}\".format(optimized_k_ridge.best_score_))"
   ]
  },
  {
   "cell_type": "code",
   "execution_count": 128,
   "id": "9712500d",
   "metadata": {},
   "outputs": [],
   "source": [
    "KRidge_optim = KernelRidge()"
   ]
  },
  {
   "cell_type": "code",
   "execution_count": 129,
   "id": "325bd63a",
   "metadata": {
    "scrolled": true
   },
   "outputs": [
    {
     "data": {
      "text/plain": [
       "KernelRidge(alpha=46.41588833612782, gamma=0.01)"
      ]
     },
     "execution_count": 129,
     "metadata": {},
     "output_type": "execute_result"
    }
   ],
   "source": [
    "KRidge_optim.set_params(**optimized_k_ridge.best_params_)"
   ]
  },
  {
   "cell_type": "code",
   "execution_count": 130,
   "id": "fea49325",
   "metadata": {
    "scrolled": true
   },
   "outputs": [],
   "source": [
    "KRidge_optim = KRidge_optim.set_params(**optimized_k_ridge.best_params_)"
   ]
  },
  {
   "cell_type": "code",
   "execution_count": 131,
   "id": "63b94d1e",
   "metadata": {},
   "outputs": [
    {
     "name": "stdout",
     "output_type": "stream",
     "text": [
      "###########################################################################\n",
      "                    KernelRidge(alpha=46.41588833612782, gamma=0.01)\n",
      "model score:  0.8557218490088117\n",
      "Time processing : 0.10s\n",
      "R²                                      0.86\n",
      "Mean Absolute Error                     0.17\n",
      "Mean Square Error                       0.09\n",
      "Root Mean Square Error                  0.31\n",
      "###########################################################################\n"
     ]
    }
   ],
   "source": [
    "optim(KRidge_optim)"
   ]
  },
  {
   "cell_type": "code",
   "execution_count": null,
   "id": "b71e42b1",
   "metadata": {},
   "outputs": [],
   "source": []
  },
  {
   "cell_type": "code",
   "execution_count": 132,
   "id": "1d6dbf1d",
   "metadata": {},
   "outputs": [
    {
     "data": {
      "text/plain": [
       "Ridge()"
      ]
     },
     "execution_count": 132,
     "metadata": {},
     "output_type": "execute_result"
    }
   ],
   "source": [
    "model = Ridge()\n",
    "model.fit(X_train, y_train)"
   ]
  },
  {
   "cell_type": "code",
   "execution_count": 133,
   "id": "114810cc",
   "metadata": {},
   "outputs": [],
   "source": [
    "explainer = shap.LinearExplainer(model, X_train, feature_dependence=\"independent\")"
   ]
  },
  {
   "cell_type": "code",
   "execution_count": 134,
   "id": "aea87db2",
   "metadata": {},
   "outputs": [],
   "source": [
    "shap_values = explainer.shap_values(X_test)"
   ]
  },
  {
   "cell_type": "code",
   "execution_count": 135,
   "id": "8bbce25a",
   "metadata": {},
   "outputs": [],
   "source": [
    "X_test_array = np.array(X_test)"
   ]
  },
  {
   "cell_type": "code",
   "execution_count": 136,
   "id": "617b272f",
   "metadata": {},
   "outputs": [
    {
     "data": {
      "image/png": "[encoded data removed]",
      "text/plain": [
       "<Figure size 576x684 with 2 Axes>"
      ]
     },
     "metadata": {
      "needs_background": "light"
     },
     "output_type": "display_data"
    }
   ],
   "source": [
    "shap.summary_plot(shap_values, X_test_array, feature_names=data.columns)"
   ]
  },
  {
   "cell_type": "code",
   "execution_count": 137,
   "id": "b8c9f532",
   "metadata": {},
   "outputs": [],
   "source": [
    "explainer = shap.Explainer(model, X)\n",
    "shap_values = explainer(X)"
   ]
  },
  {
   "cell_type": "code",
   "execution_count": 138,
   "id": "60431685",
   "metadata": {},
   "outputs": [],
   "source": [
    "shap_values = explainer(X)"
   ]
  },
  {
   "cell_type": "markdown",
   "id": "f3237ac9",
   "metadata": {},
   "source": [
    "shap.plots.bar(shap_values)"
   ]
  },
  {
   "cell_type": "code",
   "execution_count": 139,
   "id": "5f8c2f4c",
   "metadata": {
    "scrolled": true
   },
   "outputs": [
    {
     "data": {
      "image/png": "[encoded data removed]",
      "text/plain": [
       "<Figure size 576x468 with 1 Axes>"
      ]
     },
     "metadata": {},
     "output_type": "display_data"
    }
   ],
   "source": [
    "shap.plots.bar(shap_values, max_display=10)"
   ]
  },
  {
   "cell_type": "markdown",
   "id": "f6e7c080",
   "metadata": {},
   "source": [
    "Feature importance globale avec Ridge"
   ]
  },
  {
   "cell_type": "code",
   "execution_count": 140,
   "id": "bfbfcefb",
   "metadata": {},
   "outputs": [],
   "source": [
    "n_alphas = 200\n",
    "alphas = np.logspace(-10, -2, n_alphas)\n",
    "\n",
    "coefs = []\n",
    "for a in alphas:\n",
    "    ridge = linear_model.Ridge(alpha=a, fit_intercept=False)\n",
    "    ridge.fit(X, y)\n",
    "    coefs.append(ridge.coef_)"
   ]
  },
  {
   "cell_type": "code",
   "execution_count": 141,
   "id": "b71f5735",
   "metadata": {
    "scrolled": false
   },
   "outputs": [
    {
     "data": {
      "image/png": "[encoded data removed]",
      "text/plain": [
       "<Figure size 432x288 with 1 Axes>"
      ]
     },
     "metadata": {
      "needs_background": "light"
     },
     "output_type": "display_data"
    }
   ],
   "source": [
    "ax = plt.gca()\n",
    "\n",
    "ax.plot(alphas, coefs)\n",
    "ax.set_xscale(\"log\")\n",
    "ax.set_xlim(ax.get_xlim()[::-1])  # reverse axis\n",
    "plt.xlabel(\"alpha\")\n",
    "plt.ylabel(\"weights\")\n",
    "plt.title(\"Ridge coefficients as a function of the regularization\")\n",
    "plt.axis(\"tight\")\n",
    "plt.show()"
   ]
  },
  {
   "cell_type": "code",
   "execution_count": null,
   "id": "8a3692a2",
   "metadata": {},
   "outputs": [],
   "source": []
  }
 ],
 "metadata": {
  "kernelspec": {
   "display_name": "Python 3 (ipykernel)",
   "language": "python",
   "name": "python3"
  },
  "language_info": {
   "codemirror_mode": {
    "name": "ipython",
    "version": 3
   },
   "file_extension": ".py",
   "mimetype": "text/x-python",
   "name": "python",
   "nbconvert_exporter": "python",
   "pygments_lexer": "ipython3",
   "version": "3.9.12"
  }
 },
 "nbformat": 4,
 "nbformat_minor": 5
}
